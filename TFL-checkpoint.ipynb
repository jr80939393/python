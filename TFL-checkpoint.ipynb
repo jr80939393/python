{
 "cells": [
  {
   "cell_type": "code",
   "execution_count": 2,
   "metadata": {},
   "outputs": [],
   "source": [
    "### 讀取套件\n",
    "\n",
    "%matplotlib inline\n",
    "import numpy as np\n",
    "import pandas as pd\n",
    "import matplotlib.pyplot as plt\n",
    "import tensorflow as tf\n",
    "from tensorflow.keras import datasets\n",
    "from tensorflow.keras.models import Sequential, Model\n",
    "from tensorflow.keras.layers import Dense, Flatten\n",
    "from tensorflow.keras.layers import Conv2D, MaxPool2D, GlobalAveragePooling2D\n",
    "from tensorflow.keras.datasets import mnist, fashion_mnist\n",
    "from tensorflow.keras.optimizers import SGD, Adam\n",
    "from tensorflow.keras.utils import to_categorical"
   ]
  },
  {
   "cell_type": "code",
   "execution_count": 2,
   "metadata": {},
   "outputs": [],
   "source": [
    "label = ['1', '2', '3', '4', '5', '6', '7', '8', '9', \"10\"]\n",
    "\n",
    "(x_train, y_train0), (x_test, y_test0) = mnist.load_data()\n",
    "\n",
    "x_train = x_train / x_train.max()\n",
    "x_test = x_test / x_test.max()\n",
    "\n",
    "y_train = to_categorical(y_train0, 10)\n",
    "y_test = to_categorical(y_test0, 10)"
   ]
  },
  {
   "cell_type": "code",
   "execution_count": 3,
   "metadata": {},
   "outputs": [
    {
     "data": {
      "text/plain": [
       "(-0.5, 27.5, 27.5, -0.5)"
      ]
     },
     "execution_count": 3,
     "metadata": {},
     "output_type": "execute_result"
    },
    {
     "data": {
      "image/png": "[encoded data removed]",
      "text/plain": [
       "<Figure size 432x288 with 1 Axes>"
      ]
     },
     "metadata": {
      "needs_background": "light"
     },
     "output_type": "display_data"
    }
   ],
   "source": [
    "img = np.random.randint(x_train.shape[0])\n",
    "x_sample = x_train[img]\n",
    "y_sample = y_train0[img].squeeze()\n",
    "\n",
    "plt.imshow(x_sample)\n",
    "plt.title(label[y_sample])\n",
    "plt.axis('off')"
   ]
  },
  {
   "cell_type": "code",
   "execution_count": 4,
   "metadata": {},
   "outputs": [
    {
     "name": "stdout",
     "output_type": "stream",
     "text": [
      "Train Size: (60000, 28, 28)\n",
      "Test Size: (10000, 28, 28)\n"
     ]
    }
   ],
   "source": [
    "print('Train Size:', x_train.shape)\n",
    "print('Test Size:', x_test.shape)"
   ]
  },
  {
   "cell_type": "code",
   "execution_count": 5,
   "metadata": {},
   "outputs": [
    {
     "name": "stdout",
     "output_type": "stream",
     "text": [
      "WARNING:tensorflow:From C:\\Users\\huhu\\anaconda3\\lib\\site-packages\\tensorflow\\python\\ops\\init_ops.py:1251: calling VarianceScaling.__init__ (from tensorflow.python.ops.init_ops) with dtype is deprecated and will be removed in a future version.\n",
      "Instructions for updating:\n",
      "Call initializer instance with the dtype argument instead of passing it to the constructor\n"
     ]
    }
   ],
   "source": [
    "### 建構模型\n",
    "\n",
    "CNN_layer = [Conv2D(32, (3, 3), input_shape=(28, 28, 1), padding='same', activation='relu'),\n",
    "           MaxPool2D(),\n",
    "           Conv2D(64, (3, 3), padding='same', activation='relu'),\n",
    "           MaxPool2D(),\n",
    "           Conv2D(128, (3, 3), padding='same', activation='relu'),\n",
    "           MaxPool2D(),\n",
    "           Conv2D(256, (3, 3), padding='same', activation='relu'),\n",
    "           GlobalAveragePooling2D()]\n",
    "FC_layer = [Dense(512, activation='relu'),\n",
    "              Dense(10, activation='softmax')]\n",
    "\n",
    "model = Sequential(CNN_layer + FC_layer)\n",
    "\n",
    "x_train=x_train.reshape(60000,28,28,1)\n",
    "x_test=x_test.reshape(10000,28,28,1)"
   ]
  },
  {
   "cell_type": "code",
   "execution_count": 6,
   "metadata": {},
   "outputs": [
    {
     "name": "stdout",
     "output_type": "stream",
     "text": [
      "Model: \"sequential\"\n",
      "_________________________________________________________________\n",
      "Layer (type)                 Output Shape              Param #   \n",
      "=================================================================\n",
      "conv2d (Conv2D)              (None, 28, 28, 32)        320       \n",
      "_________________________________________________________________\n",
      "max_pooling2d (MaxPooling2D) (None, 14, 14, 32)        0         \n",
      "_________________________________________________________________\n",
      "conv2d_1 (Conv2D)            (None, 14, 14, 64)        18496     \n",
      "_________________________________________________________________\n",
      "max_pooling2d_1 (MaxPooling2 (None, 7, 7, 64)          0         \n",
      "_________________________________________________________________\n",
      "conv2d_2 (Conv2D)            (None, 7, 7, 128)         73856     \n",
      "_________________________________________________________________\n",
      "max_pooling2d_2 (MaxPooling2 (None, 3, 3, 128)         0         \n",
      "_________________________________________________________________\n",
      "conv2d_3 (Conv2D)            (None, 3, 3, 256)         295168    \n",
      "_________________________________________________________________\n",
      "global_average_pooling2d (Gl (None, 256)               0         \n",
      "_________________________________________________________________\n",
      "dense (Dense)                (None, 512)               131584    \n",
      "_________________________________________________________________\n",
      "dense_1 (Dense)              (None, 10)                5130      \n",
      "=================================================================\n",
      "Total params: 524,554\n",
      "Trainable params: 524,554\n",
      "Non-trainable params: 0\n",
      "_________________________________________________________________\n"
     ]
    }
   ],
   "source": [
    "model.summary()"
   ]
  },
  {
   "cell_type": "code",
   "execution_count": 7,
   "metadata": {},
   "outputs": [],
   "source": [
    "model.compile(loss='categorical_crossentropy', \n",
    "                optimizer=Adam(),\n",
    "                metrics=['categorical_accuracy'])"
   ]
  },
  {
   "cell_type": "code",
   "execution_count": 8,
   "metadata": {},
   "outputs": [
    {
     "name": "stdout",
     "output_type": "stream",
     "text": [
      "Train on 60000 samples, validate on 10000 samples\n",
      "Epoch 1/15\n",
      "60000/60000 [==============================] - 124s 2ms/sample - loss: 0.4220 - categorical_accuracy: 0.8628 - val_loss: 0.1019 - val_categorical_accuracy: 0.9670\n",
      "Epoch 2/15\n",
      "60000/60000 [==============================] - 125s 2ms/sample - loss: 0.0931 - categorical_accuracy: 0.9717 - val_loss: 0.0554 - val_categorical_accuracy: 0.9824\n",
      "Epoch 3/15\n",
      "60000/60000 [==============================] - 125s 2ms/sample - loss: 0.0605 - categorical_accuracy: 0.9813 - val_loss: 0.0367 - val_categorical_accuracy: 0.9876\n",
      "Epoch 4/15\n",
      "60000/60000 [==============================] - 126s 2ms/sample - loss: 0.0429 - categorical_accuracy: 0.9868 - val_loss: 0.0368 - val_categorical_accuracy: 0.9882\n",
      "Epoch 5/15\n",
      "60000/60000 [==============================] - 125s 2ms/sample - loss: 0.0360 - categorical_accuracy: 0.9887 - val_loss: 0.0336 - val_categorical_accuracy: 0.9889\n",
      "Epoch 6/15\n",
      "60000/60000 [==============================] - 125s 2ms/sample - loss: 0.0279 - categorical_accuracy: 0.9912 - val_loss: 0.0269 - val_categorical_accuracy: 0.9900\n",
      "Epoch 7/15\n",
      "60000/60000 [==============================] - 131s 2ms/sample - loss: 0.0251 - categorical_accuracy: 0.9918 - val_loss: 0.0222 - val_categorical_accuracy: 0.9917\n",
      "Epoch 8/15\n",
      "60000/60000 [==============================] - 125s 2ms/sample - loss: 0.0226 - categorical_accuracy: 0.9926 - val_loss: 0.0345 - val_categorical_accuracy: 0.9889\n",
      "Epoch 9/15\n",
      "60000/60000 [==============================] - 119s 2ms/sample - loss: 0.0176 - categorical_accuracy: 0.9943 - val_loss: 0.0268 - val_categorical_accuracy: 0.9917\n",
      "Epoch 10/15\n",
      "60000/60000 [==============================] - 100s 2ms/sample - loss: 0.0152 - categorical_accuracy: 0.9946 - val_loss: 0.0251 - val_categorical_accuracy: 0.9923\n",
      "Epoch 11/15\n",
      "60000/60000 [==============================] - 99s 2ms/sample - loss: 0.0124 - categorical_accuracy: 0.9962 - val_loss: 0.0203 - val_categorical_accuracy: 0.9918\n",
      "Epoch 12/15\n",
      "60000/60000 [==============================] - 99s 2ms/sample - loss: 0.0155 - categorical_accuracy: 0.9949 - val_loss: 0.0270 - val_categorical_accuracy: 0.9902\n",
      "Epoch 13/15\n",
      "60000/60000 [==============================] - 100s 2ms/sample - loss: 0.0123 - categorical_accuracy: 0.9959 - val_loss: 0.0262 - val_categorical_accuracy: 0.9920\n",
      "Epoch 14/15\n",
      "60000/60000 [==============================] - 100s 2ms/sample - loss: 0.0111 - categorical_accuracy: 0.9962 - val_loss: 0.0291 - val_categorical_accuracy: 0.9902\n",
      "Epoch 15/15\n",
      "60000/60000 [==============================] - 100s 2ms/sample - loss: 0.0101 - categorical_accuracy: 0.9968 - val_loss: 0.0227 - val_categorical_accuracy: 0.9924\n"
     ]
    }
   ],
   "source": [
    "old = model.fit( x_train, y_train, batch_size=200, epochs=15, validation_data=(x_test, y_test) )"
   ]
  },
  {
   "cell_type": "code",
   "execution_count": 9,
   "metadata": {},
   "outputs": [
    {
     "name": "stdout",
     "output_type": "stream",
     "text": [
      "60000/60000 [==============================] - 23s 385us/sample - loss: 0.0057 - categorical_accuracy: 0.9985\n",
      "10000/10000 [==============================] - 4s 383us/sample - loss: 0.0227 - categorical_accuracy: 0.9924\n",
      "訓練正確率: 99.84833598136902\n",
      "測試正確率: 99.23999905586243\n"
     ]
    }
   ],
   "source": [
    "score_train = model.evaluate(x_train, y_train)\n",
    "score_test = model.evaluate(x_test, y_test)\n",
    "\n",
    "print(f'訓練正確率: {score_train[1]*100}')\n",
    "print(f'測試正確率: {score_test[1]*100}')"
   ]
  },
  {
   "cell_type": "code",
   "execution_count": 10,
   "metadata": {},
   "outputs": [],
   "source": [
    "### 讀入新資料\n",
    "\n",
    "(X_train, Y_train0), (X_test, Y_test0) = fashion_mnist.load_data()\n",
    "\n",
    "X_train = X_train / X_train.max()\n",
    "X_test = X_test / X_test.max()\n",
    "\n",
    "Y_train = to_categorical(Y_train0, 100)\n",
    "Y_test = to_categorical(Y_test0, 100)\n",
    "\n"
   ]
  },
  {
   "cell_type": "code",
   "execution_count": 12,
   "metadata": {},
   "outputs": [
    {
     "data": {
      "text/plain": [
       "(-0.5, 27.5, 27.5, -0.5)"
      ]
     },
     "execution_count": 12,
     "metadata": {},
     "output_type": "execute_result"
    },
    {
     "data": {
      "image/png": "[encoded data removed]",
      "text/plain": [
       "<Figure size 432x288 with 1 Axes>"
      ]
     },
     "metadata": {
      "needs_background": "light"
     },
     "output_type": "display_data"
    }
   ],
   "source": [
    "img = np.random.randint(X_train.shape[0])\n",
    "X_sample = X_train[img]\n",
    "Y_sample = Y_train0[img].squeeze()\n",
    "\n",
    "plt.imshow(X_sample)\n",
    "plt.title(label[y_sample])\n",
    "plt.axis('off')"
   ]
  },
  {
   "cell_type": "code",
   "execution_count": 13,
   "metadata": {},
   "outputs": [],
   "source": [
    "for layer in CNN_layer:\n",
    "    layer.trainable = False"
   ]
  },
  {
   "cell_type": "code",
   "execution_count": 14,
   "metadata": {},
   "outputs": [],
   "source": [
    "FC_layer_new = [Dense(128, activation='relu'),\n",
    "              Dense(64, activation='relu'),\n",
    "              Dense(100, activation='softmax')]"
   ]
  },
  {
   "cell_type": "code",
   "execution_count": 15,
   "metadata": {},
   "outputs": [
    {
     "name": "stdout",
     "output_type": "stream",
     "text": [
      "Model: \"sequential_1\"\n",
      "_________________________________________________________________\n",
      "Layer (type)                 Output Shape              Param #   \n",
      "=================================================================\n",
      "conv2d (Conv2D)              (None, 28, 28, 32)        320       \n",
      "_________________________________________________________________\n",
      "max_pooling2d (MaxPooling2D) (None, 14, 14, 32)        0         \n",
      "_________________________________________________________________\n",
      "conv2d_1 (Conv2D)            (None, 14, 14, 64)        18496     \n",
      "_________________________________________________________________\n",
      "max_pooling2d_1 (MaxPooling2 (None, 7, 7, 64)          0         \n",
      "_________________________________________________________________\n",
      "conv2d_2 (Conv2D)            (None, 7, 7, 128)         73856     \n",
      "_________________________________________________________________\n",
      "max_pooling2d_2 (MaxPooling2 (None, 3, 3, 128)         0         \n",
      "_________________________________________________________________\n",
      "conv2d_3 (Conv2D)            (None, 3, 3, 256)         295168    \n",
      "_________________________________________________________________\n",
      "global_average_pooling2d (Gl (None, 256)               0         \n",
      "_________________________________________________________________\n",
      "dense_2 (Dense)              (None, 128)               32896     \n",
      "_________________________________________________________________\n",
      "dense_3 (Dense)              (None, 64)                8256      \n",
      "_________________________________________________________________\n",
      "dense_4 (Dense)              (None, 100)               6500      \n",
      "=================================================================\n",
      "Total params: 435,492\n",
      "Trainable params: 47,652\n",
      "Non-trainable params: 387,840\n",
      "_________________________________________________________________\n"
     ]
    }
   ],
   "source": [
    "model_trans = Sequential(CNN_layer+FC_layer_new)\n",
    "model_trans.summary()"
   ]
  },
  {
   "cell_type": "code",
   "execution_count": 16,
   "metadata": {},
   "outputs": [],
   "source": [
    "model_trans.compile(loss='categorical_crossentropy', \n",
    "                optimizer=Adam(),\n",
    "                metrics=['categorical_accuracy'])"
   ]
  },
  {
   "cell_type": "code",
   "execution_count": 17,
   "metadata": {},
   "outputs": [
    {
     "name": "stdout",
     "output_type": "stream",
     "text": [
      "Train on 60000 samples, validate on 10000 samples\n",
      "Epoch 1/20\n",
      "60000/60000 [==============================] - 22s 362us/sample - loss: 0.9698 - categorical_accuracy: 0.6797 - val_loss: 0.6439 - val_categorical_accuracy: 0.7564\n",
      "Epoch 2/20\n",
      "60000/60000 [==============================] - 23s 386us/sample - loss: 0.5876 - categorical_accuracy: 0.7833 - val_loss: 0.5814 - val_categorical_accuracy: 0.7779\n",
      "Epoch 3/20\n",
      "60000/60000 [==============================] - 24s 401us/sample - loss: 0.5327 - categorical_accuracy: 0.8051 - val_loss: 0.5399 - val_categorical_accuracy: 0.7965\n",
      "Epoch 4/20\n",
      "60000/60000 [==============================] - 24s 404us/sample - loss: 0.5003 - categorical_accuracy: 0.8178 - val_loss: 0.5187 - val_categorical_accuracy: 0.8091\n",
      "Epoch 5/20\n",
      "60000/60000 [==============================] - 24s 404us/sample - loss: 0.4740 - categorical_accuracy: 0.8292 - val_loss: 0.4907 - val_categorical_accuracy: 0.8180\n",
      "Epoch 6/20\n",
      "60000/60000 [==============================] - 25s 414us/sample - loss: 0.4577 - categorical_accuracy: 0.8337 - val_loss: 0.4768 - val_categorical_accuracy: 0.8264\n",
      "Epoch 7/20\n",
      "60000/60000 [==============================] - 25s 421us/sample - loss: 0.4411 - categorical_accuracy: 0.8400 - val_loss: 0.4786 - val_categorical_accuracy: 0.8227\n",
      "Epoch 8/20\n",
      "60000/60000 [==============================] - 25s 416us/sample - loss: 0.4296 - categorical_accuracy: 0.8440 - val_loss: 0.4662 - val_categorical_accuracy: 0.8269\n",
      "Epoch 9/20\n",
      "60000/60000 [==============================] - 25s 410us/sample - loss: 0.4155 - categorical_accuracy: 0.8492 - val_loss: 0.4549 - val_categorical_accuracy: 0.8329\n",
      "Epoch 10/20\n",
      "60000/60000 [==============================] - 25s 413us/sample - loss: 0.4094 - categorical_accuracy: 0.8515 - val_loss: 0.4447 - val_categorical_accuracy: 0.8383\n",
      "Epoch 11/20\n",
      "60000/60000 [==============================] - 25s 421us/sample - loss: 0.4003 - categorical_accuracy: 0.8541 - val_loss: 0.4398 - val_categorical_accuracy: 0.8391\n",
      "Epoch 12/20\n",
      "60000/60000 [==============================] - 25s 419us/sample - loss: 0.3910 - categorical_accuracy: 0.8577 - val_loss: 0.4347 - val_categorical_accuracy: 0.8417\n",
      "Epoch 13/20\n",
      "60000/60000 [==============================] - 25s 415us/sample - loss: 0.3846 - categorical_accuracy: 0.8587 - val_loss: 0.4380 - val_categorical_accuracy: 0.8409\n",
      "Epoch 14/20\n",
      "60000/60000 [==============================] - 25s 418us/sample - loss: 0.3782 - categorical_accuracy: 0.8611 - val_loss: 0.4182 - val_categorical_accuracy: 0.8492\n",
      "Epoch 15/20\n",
      "60000/60000 [==============================] - 25s 416us/sample - loss: 0.3724 - categorical_accuracy: 0.8629 - val_loss: 0.4108 - val_categorical_accuracy: 0.8493\n",
      "Epoch 16/20\n",
      "60000/60000 [==============================] - 25s 423us/sample - loss: 0.3681 - categorical_accuracy: 0.8644 - val_loss: 0.4253 - val_categorical_accuracy: 0.8443\n",
      "Epoch 17/20\n",
      "60000/60000 [==============================] - 25s 416us/sample - loss: 0.3631 - categorical_accuracy: 0.8669 - val_loss: 0.4111 - val_categorical_accuracy: 0.8503\n",
      "Epoch 18/20\n",
      "60000/60000 [==============================] - 25s 416us/sample - loss: 0.3595 - categorical_accuracy: 0.8677 - val_loss: 0.4153 - val_categorical_accuracy: 0.8493\n",
      "Epoch 19/20\n",
      "60000/60000 [==============================] - 25s 417us/sample - loss: 0.3542 - categorical_accuracy: 0.8686 - val_loss: 0.4103 - val_categorical_accuracy: 0.8487\n",
      "Epoch 20/20\n",
      "60000/60000 [==============================] - 25s 419us/sample - loss: 0.3506 - categorical_accuracy: 0.8704 - val_loss: 0.4038 - val_categorical_accuracy: 0.8503\n"
     ]
    }
   ],
   "source": [
    "X_train=X_train.reshape(60000,28,28,1)\n",
    "X_test=X_test.reshape(10000,28,28,1)\n",
    "\n",
    "new = model_trans.fit( X_train, Y_train, batch_size=128, epochs=20, validation_data=(X_test, Y_test) )"
   ]
  },
  {
   "cell_type": "code",
   "execution_count": 18,
   "metadata": {},
   "outputs": [
    {
     "name": "stdout",
     "output_type": "stream",
     "text": [
      "60000/60000 [==============================] - 23s 389us/sample - loss: 0.3443 - categorical_accuracy: 0.8748\n",
      "10000/10000 [==============================] - 4s 382us/sample - loss: 0.4038 - categorical_accuracy: 0.8503\n",
      "訓練正確率: 87.48000264167786\n",
      "測試正確率: 85.03000140190125\n"
     ]
    }
   ],
   "source": [
    "trans_score_train = model_trans.evaluate(X_train, Y_train)\n",
    "trans_score_test = model_trans.evaluate(X_test, Y_test)\n",
    "\n",
    "print(f'訓練正確率: {trans_score_train[1]*100}')\n",
    "print(f'測試正確率: {trans_score_test[1]*100}')"
   ]
  },
  {
   "cell_type": "code",
   "execution_count": null,
   "metadata": {},
   "outputs": [],
   "source": []
  }
 ],
 "metadata": {
  "kernelspec": {
   "display_name": "Python 3",
   "language": "python",
   "name": "python3"
  },
  "language_info": {
   "codemirror_mode": {
    "name": "ipython",
    "version": 3
   },
   "file_extension": ".py",
   "mimetype": "text/x-python",
   "name": "python",
   "nbconvert_exporter": "python",
   "pygments_lexer": "ipython3",
   "version": "3.7.6"
  }
 },
 "nbformat": 4,
 "nbformat_minor": 4
}
