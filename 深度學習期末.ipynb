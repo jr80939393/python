{
 "cells": [
  {
   "cell_type": "code",
   "execution_count": 98,
   "metadata": {},
   "outputs": [],
   "source": [
    "%matplotlib inline\n",
    "import numpy as np\n",
    "import matplotlib.pyplot as plt\n",
    "import tensorflow as tf\n",
    "import pandas as pd\n",
    "from ipywidgets import interact_manual"
   ]
  },
  {
   "cell_type": "code",
   "execution_count": 99,
   "metadata": {},
   "outputs": [],
   "source": [
    "TRAIN_DATA_URL = \"https://docs.google.com/spreadsheets/d/e/2PACX-1vSBDHo3Qvslko6v9xpyns64RBNWBTTnpAEajmrzqTAXOVOVK98kL1uSsROWc_EUfQ/pub?output=csv\"\n",
    "TEST_DATA_URL = \"https://docs.google.com/spreadsheets/d/e/2PACX-1vRE-JePncuQaJDANL5Rq3MnGCxNvYPi25jXNrrvuwri7hi9_IeCZxCoc0PANvxtLA/pub?output=csv\"\n",
    "\n",
    "train = tf.keras.utils.get_file(\"data___train.csv\", TRAIN_DATA_URL)\n",
    "test = tf.keras.utils.get_file(\"data___test.csv\", TEST_DATA_URL)"
   ]
  },
  {
   "cell_type": "code",
   "execution_count": 100,
   "metadata": {},
   "outputs": [],
   "source": [
    "train_data = pd.read_csv(train)\n",
    "test_data = pd.read_csv(test)"
   ]
  },
  {
   "cell_type": "code",
   "execution_count": 101,
   "metadata": {},
   "outputs": [
    {
     "data": {
      "text/html": [
       "<div>\n",
       "<style scoped>\n",
       "    .dataframe tbody tr th:only-of-type {\n",
       "        vertical-align: middle;\n",
       "    }\n",
       "\n",
       "    .dataframe tbody tr th {\n",
       "        vertical-align: top;\n",
       "    }\n",
       "\n",
       "    .dataframe thead th {\n",
       "        text-align: right;\n",
       "    }\n",
       "</style>\n",
       "<table border=\"1\" class=\"dataframe\">\n",
       "  <thead>\n",
       "    <tr style=\"text-align: right;\">\n",
       "      <th></th>\n",
       "      <th>土地移轉總面積(平方公尺)</th>\n",
       "      <th>工</th>\n",
       "      <th>住</th>\n",
       "      <th>商</th>\n",
       "      <th>其他</th>\n",
       "      <th>交易筆棟數_土地</th>\n",
       "      <th>交易筆棟數_建物</th>\n",
       "      <th>交易筆棟數_車位</th>\n",
       "      <th>移轉層次</th>\n",
       "      <th>總樓層數</th>\n",
       "      <th>...</th>\n",
       "      <th>坡道平面</th>\n",
       "      <th>坡道機械</th>\n",
       "      <th>塔式車位</th>\n",
       "      <th>空格</th>\n",
       "      <th>車位移轉總面積(平方公尺)</th>\n",
       "      <th>交易標的橫坐標</th>\n",
       "      <th>交易標的縱坐標</th>\n",
       "      <th>屋齡</th>\n",
       "      <th>lat</th>\n",
       "      <th>lon</th>\n",
       "    </tr>\n",
       "  </thead>\n",
       "  <tbody>\n",
       "    <tr>\n",
       "      <th>0</th>\n",
       "      <td>0.039182</td>\n",
       "      <td>0</td>\n",
       "      <td>1</td>\n",
       "      <td>0</td>\n",
       "      <td>0</td>\n",
       "      <td>0.035714</td>\n",
       "      <td>0.1</td>\n",
       "      <td>0.166667</td>\n",
       "      <td>0.222222</td>\n",
       "      <td>0.354839</td>\n",
       "      <td>...</td>\n",
       "      <td>1</td>\n",
       "      <td>0</td>\n",
       "      <td>0</td>\n",
       "      <td>0</td>\n",
       "      <td>0.285068</td>\n",
       "      <td>0.579262</td>\n",
       "      <td>0.337162</td>\n",
       "      <td>0.074490</td>\n",
       "      <td>0.337084</td>\n",
       "      <td>0.578431</td>\n",
       "    </tr>\n",
       "    <tr>\n",
       "      <th>1</th>\n",
       "      <td>0.031495</td>\n",
       "      <td>0</td>\n",
       "      <td>1</td>\n",
       "      <td>0</td>\n",
       "      <td>0</td>\n",
       "      <td>0.071429</td>\n",
       "      <td>0.1</td>\n",
       "      <td>0.083333</td>\n",
       "      <td>0.305556</td>\n",
       "      <td>0.580645</td>\n",
       "      <td>...</td>\n",
       "      <td>1</td>\n",
       "      <td>0</td>\n",
       "      <td>0</td>\n",
       "      <td>0</td>\n",
       "      <td>0.136014</td>\n",
       "      <td>0.787888</td>\n",
       "      <td>0.552158</td>\n",
       "      <td>0.339124</td>\n",
       "      <td>0.551303</td>\n",
       "      <td>0.788577</td>\n",
       "    </tr>\n",
       "    <tr>\n",
       "      <th>2</th>\n",
       "      <td>0.027822</td>\n",
       "      <td>0</td>\n",
       "      <td>1</td>\n",
       "      <td>0</td>\n",
       "      <td>0</td>\n",
       "      <td>0.035714</td>\n",
       "      <td>0.1</td>\n",
       "      <td>0.083333</td>\n",
       "      <td>0.194444</td>\n",
       "      <td>0.161290</td>\n",
       "      <td>...</td>\n",
       "      <td>0</td>\n",
       "      <td>1</td>\n",
       "      <td>0</td>\n",
       "      <td>0</td>\n",
       "      <td>0.066047</td>\n",
       "      <td>0.955935</td>\n",
       "      <td>0.566542</td>\n",
       "      <td>0.149622</td>\n",
       "      <td>0.565061</td>\n",
       "      <td>0.957067</td>\n",
       "    </tr>\n",
       "    <tr>\n",
       "      <th>3</th>\n",
       "      <td>0.038581</td>\n",
       "      <td>0</td>\n",
       "      <td>0</td>\n",
       "      <td>1</td>\n",
       "      <td>0</td>\n",
       "      <td>0.035714</td>\n",
       "      <td>0.1</td>\n",
       "      <td>0.000000</td>\n",
       "      <td>0.333333</td>\n",
       "      <td>0.161290</td>\n",
       "      <td>...</td>\n",
       "      <td>0</td>\n",
       "      <td>0</td>\n",
       "      <td>0</td>\n",
       "      <td>1</td>\n",
       "      <td>0.000000</td>\n",
       "      <td>0.787764</td>\n",
       "      <td>0.575805</td>\n",
       "      <td>0.570204</td>\n",
       "      <td>0.574945</td>\n",
       "      <td>0.788577</td>\n",
       "    </tr>\n",
       "    <tr>\n",
       "      <th>4</th>\n",
       "      <td>0.019160</td>\n",
       "      <td>0</td>\n",
       "      <td>0</td>\n",
       "      <td>1</td>\n",
       "      <td>0</td>\n",
       "      <td>0.035714</td>\n",
       "      <td>0.1</td>\n",
       "      <td>0.000000</td>\n",
       "      <td>0.194444</td>\n",
       "      <td>0.193548</td>\n",
       "      <td>...</td>\n",
       "      <td>0</td>\n",
       "      <td>0</td>\n",
       "      <td>0</td>\n",
       "      <td>1</td>\n",
       "      <td>0.000000</td>\n",
       "      <td>0.385013</td>\n",
       "      <td>0.411777</td>\n",
       "      <td>0.302727</td>\n",
       "      <td>0.412331</td>\n",
       "      <td>0.384167</td>\n",
       "    </tr>\n",
       "    <tr>\n",
       "      <th>...</th>\n",
       "      <td>...</td>\n",
       "      <td>...</td>\n",
       "      <td>...</td>\n",
       "      <td>...</td>\n",
       "      <td>...</td>\n",
       "      <td>...</td>\n",
       "      <td>...</td>\n",
       "      <td>...</td>\n",
       "      <td>...</td>\n",
       "      <td>...</td>\n",
       "      <td>...</td>\n",
       "      <td>...</td>\n",
       "      <td>...</td>\n",
       "      <td>...</td>\n",
       "      <td>...</td>\n",
       "      <td>...</td>\n",
       "      <td>...</td>\n",
       "      <td>...</td>\n",
       "      <td>...</td>\n",
       "      <td>...</td>\n",
       "      <td>...</td>\n",
       "    </tr>\n",
       "    <tr>\n",
       "      <th>6994</th>\n",
       "      <td>0.043424</td>\n",
       "      <td>0</td>\n",
       "      <td>0</td>\n",
       "      <td>1</td>\n",
       "      <td>0</td>\n",
       "      <td>0.071429</td>\n",
       "      <td>0.1</td>\n",
       "      <td>0.000000</td>\n",
       "      <td>0.277778</td>\n",
       "      <td>0.161290</td>\n",
       "      <td>...</td>\n",
       "      <td>0</td>\n",
       "      <td>0</td>\n",
       "      <td>0</td>\n",
       "      <td>1</td>\n",
       "      <td>0.000000</td>\n",
       "      <td>0.416008</td>\n",
       "      <td>0.448463</td>\n",
       "      <td>0.265047</td>\n",
       "      <td>0.448910</td>\n",
       "      <td>0.415397</td>\n",
       "    </tr>\n",
       "    <tr>\n",
       "      <th>6995</th>\n",
       "      <td>0.048738</td>\n",
       "      <td>0</td>\n",
       "      <td>1</td>\n",
       "      <td>0</td>\n",
       "      <td>0</td>\n",
       "      <td>0.035714</td>\n",
       "      <td>0.1</td>\n",
       "      <td>0.000000</td>\n",
       "      <td>0.222222</td>\n",
       "      <td>0.064516</td>\n",
       "      <td>...</td>\n",
       "      <td>0</td>\n",
       "      <td>0</td>\n",
       "      <td>0</td>\n",
       "      <td>1</td>\n",
       "      <td>0.000000</td>\n",
       "      <td>0.694529</td>\n",
       "      <td>0.357446</td>\n",
       "      <td>0.771854</td>\n",
       "      <td>0.356964</td>\n",
       "      <td>0.694017</td>\n",
       "    </tr>\n",
       "    <tr>\n",
       "      <th>6996</th>\n",
       "      <td>0.043700</td>\n",
       "      <td>0</td>\n",
       "      <td>1</td>\n",
       "      <td>0</td>\n",
       "      <td>0</td>\n",
       "      <td>0.035714</td>\n",
       "      <td>0.1</td>\n",
       "      <td>0.000000</td>\n",
       "      <td>0.222222</td>\n",
       "      <td>0.096774</td>\n",
       "      <td>...</td>\n",
       "      <td>0</td>\n",
       "      <td>0</td>\n",
       "      <td>0</td>\n",
       "      <td>1</td>\n",
       "      <td>0.000000</td>\n",
       "      <td>0.678222</td>\n",
       "      <td>0.230932</td>\n",
       "      <td>0.467477</td>\n",
       "      <td>0.230532</td>\n",
       "      <td>0.677035</td>\n",
       "    </tr>\n",
       "    <tr>\n",
       "      <th>6997</th>\n",
       "      <td>0.071490</td>\n",
       "      <td>0</td>\n",
       "      <td>1</td>\n",
       "      <td>0</td>\n",
       "      <td>0</td>\n",
       "      <td>0.071429</td>\n",
       "      <td>0.1</td>\n",
       "      <td>0.000000</td>\n",
       "      <td>0.250000</td>\n",
       "      <td>0.064516</td>\n",
       "      <td>...</td>\n",
       "      <td>0</td>\n",
       "      <td>0</td>\n",
       "      <td>0</td>\n",
       "      <td>1</td>\n",
       "      <td>0.000000</td>\n",
       "      <td>0.703492</td>\n",
       "      <td>0.390717</td>\n",
       "      <td>0.745496</td>\n",
       "      <td>0.390197</td>\n",
       "      <td>0.703167</td>\n",
       "    </tr>\n",
       "    <tr>\n",
       "      <th>6998</th>\n",
       "      <td>0.017178</td>\n",
       "      <td>0</td>\n",
       "      <td>1</td>\n",
       "      <td>0</td>\n",
       "      <td>0</td>\n",
       "      <td>0.035714</td>\n",
       "      <td>0.1</td>\n",
       "      <td>0.000000</td>\n",
       "      <td>0.305556</td>\n",
       "      <td>0.129032</td>\n",
       "      <td>...</td>\n",
       "      <td>0</td>\n",
       "      <td>0</td>\n",
       "      <td>0</td>\n",
       "      <td>1</td>\n",
       "      <td>0.000000</td>\n",
       "      <td>0.624946</td>\n",
       "      <td>0.472214</td>\n",
       "      <td>0.748980</td>\n",
       "      <td>0.471953</td>\n",
       "      <td>0.624878</td>\n",
       "    </tr>\n",
       "  </tbody>\n",
       "</table>\n",
       "<p>6999 rows × 48 columns</p>\n",
       "</div>"
      ],
      "text/plain": [
       "      土地移轉總面積(平方公尺)  工  住  商  其他  交易筆棟數_土地  交易筆棟數_建物  交易筆棟數_車位      移轉層次  \\\n",
       "0          0.039182  0  1  0   0  0.035714       0.1  0.166667  0.222222   \n",
       "1          0.031495  0  1  0   0  0.071429       0.1  0.083333  0.305556   \n",
       "2          0.027822  0  1  0   0  0.035714       0.1  0.083333  0.194444   \n",
       "3          0.038581  0  0  1   0  0.035714       0.1  0.000000  0.333333   \n",
       "4          0.019160  0  0  1   0  0.035714       0.1  0.000000  0.194444   \n",
       "...             ... .. .. ..  ..       ...       ...       ...       ...   \n",
       "6994       0.043424  0  0  1   0  0.071429       0.1  0.000000  0.277778   \n",
       "6995       0.048738  0  1  0   0  0.035714       0.1  0.000000  0.222222   \n",
       "6996       0.043700  0  1  0   0  0.035714       0.1  0.000000  0.222222   \n",
       "6997       0.071490  0  1  0   0  0.071429       0.1  0.000000  0.250000   \n",
       "6998       0.017178  0  1  0   0  0.035714       0.1  0.000000  0.305556   \n",
       "\n",
       "          總樓層數  ...  坡道平面  坡道機械  塔式車位  空格  車位移轉總面積(平方公尺)   交易標的橫坐標   交易標的縱坐標  \\\n",
       "0     0.354839  ...     1     0     0   0       0.285068  0.579262  0.337162   \n",
       "1     0.580645  ...     1     0     0   0       0.136014  0.787888  0.552158   \n",
       "2     0.161290  ...     0     1     0   0       0.066047  0.955935  0.566542   \n",
       "3     0.161290  ...     0     0     0   1       0.000000  0.787764  0.575805   \n",
       "4     0.193548  ...     0     0     0   1       0.000000  0.385013  0.411777   \n",
       "...        ...  ...   ...   ...   ...  ..            ...       ...       ...   \n",
       "6994  0.161290  ...     0     0     0   1       0.000000  0.416008  0.448463   \n",
       "6995  0.064516  ...     0     0     0   1       0.000000  0.694529  0.357446   \n",
       "6996  0.096774  ...     0     0     0   1       0.000000  0.678222  0.230932   \n",
       "6997  0.064516  ...     0     0     0   1       0.000000  0.703492  0.390717   \n",
       "6998  0.129032  ...     0     0     0   1       0.000000  0.624946  0.472214   \n",
       "\n",
       "            屋齡       lat       lon  \n",
       "0     0.074490  0.337084  0.578431  \n",
       "1     0.339124  0.551303  0.788577  \n",
       "2     0.149622  0.565061  0.957067  \n",
       "3     0.570204  0.574945  0.788577  \n",
       "4     0.302727  0.412331  0.384167  \n",
       "...        ...       ...       ...  \n",
       "6994  0.265047  0.448910  0.415397  \n",
       "6995  0.771854  0.356964  0.694017  \n",
       "6996  0.467477  0.230532  0.677035  \n",
       "6997  0.745496  0.390197  0.703167  \n",
       "6998  0.748980  0.471953  0.624878  \n",
       "\n",
       "[6999 rows x 48 columns]"
      ]
     },
     "execution_count": 101,
     "metadata": {},
     "output_type": "execute_result"
    }
   ],
   "source": [
    "train_data.head(10000)"
   ]
  },
  {
   "cell_type": "code",
   "execution_count": 102,
   "metadata": {},
   "outputs": [
    {
     "data": {
      "text/plain": [
       "土地移轉總面積(平方公尺)      float64\n",
       "工                    int64\n",
       "住                    int64\n",
       "商                    int64\n",
       "其他                   int64\n",
       "交易筆棟數_土地           float64\n",
       "交易筆棟數_建物           float64\n",
       "交易筆棟數_車位           float64\n",
       "移轉層次               float64\n",
       "總樓層數               float64\n",
       "公寓(5樓含以下無電梯)         int64\n",
       "住宅大樓(11層含以上有電梯)      int64\n",
       "套房(1房1廳1衛)           int64\n",
       "華廈(10層含以下有電梯)        int64\n",
       "工業用                  int64\n",
       "住家用                  int64\n",
       "住商用                  int64\n",
       "停車空間                 int64\n",
       "商業用                  int64\n",
       "加強磚造                 int64\n",
       "預力混凝土造               int64\n",
       "壁式預鑄鋼筋混凝土造           int64\n",
       "鋼骨混凝土造               int64\n",
       "鋼骨鋼筋混凝土造             int64\n",
       "鋼造                   int64\n",
       "鋼筋混凝土加強磚造            int64\n",
       "鋼筋混凝土造               int64\n",
       "建物移轉總面積(平方公尺)      float64\n",
       "建物現況格局-房           float64\n",
       "建物現況格局-廳           float64\n",
       "建物現況格局-衛           float64\n",
       "建物現況格局-隔間            int64\n",
       "有無管理組織               int64\n",
       "price              float64\n",
       "一樓平面                 int64\n",
       "升降平面                 int64\n",
       "升降機械                 int64\n",
       "其他.1                 int64\n",
       "坡道平面                 int64\n",
       "坡道機械                 int64\n",
       "塔式車位                 int64\n",
       "空格                   int64\n",
       "車位移轉總面積(平方公尺)      float64\n",
       "交易標的橫坐標            float64\n",
       "交易標的縱坐標            float64\n",
       "屋齡                 float64\n",
       "lat                float64\n",
       "lon                float64\n",
       "dtype: object"
      ]
     },
     "execution_count": 102,
     "metadata": {},
     "output_type": "execute_result"
    }
   ],
   "source": [
    "train_data.dtypes"
   ]
  },
  {
   "cell_type": "code",
   "execution_count": 103,
   "metadata": {},
   "outputs": [],
   "source": [
    "train_data_sol = train_data.pop('price')\n",
    "test_data_sol = test_data.pop('price')"
   ]
  },
  {
   "cell_type": "code",
   "execution_count": 104,
   "metadata": {},
   "outputs": [
    {
     "name": "stdout",
     "output_type": "stream",
     "text": [
      "train_data資料數: 6999\n",
      "test_data資料數: 1685\n"
     ]
    }
   ],
   "source": [
    "trd = train_data.values\n",
    "ted = test_data.values\n",
    "trds = train_data_sol.values\n",
    "teds = test_data_sol.values\n",
    "\n",
    "print('train_data資料數:',len(trd))\n",
    "print('test_data資料數:',len(ted))"
   ]
  },
  {
   "cell_type": "code",
   "execution_count": 105,
   "metadata": {},
   "outputs": [
    {
     "data": {
      "text/plain": [
       "array([0.03918223, 0.        , 1.        , 0.        , 0.        ,\n",
       "       0.03571429, 0.1       , 0.16666667, 0.22222222, 0.35483871,\n",
       "       0.        , 1.        , 0.        , 0.        , 0.        ,\n",
       "       1.        , 0.        , 0.        , 0.        , 0.        ,\n",
       "       0.        , 0.        , 0.        , 0.        , 0.        ,\n",
       "       0.        , 1.        , 0.09218897, 0.09375   , 0.2       ,\n",
       "       0.06666667, 1.        , 1.        , 0.        , 0.        ,\n",
       "       0.        , 0.        , 1.        , 0.        , 0.        ,\n",
       "       0.        , 0.28506757, 0.57926184, 0.33716237, 0.07449003,\n",
       "       0.33708448, 0.57843064])"
      ]
     },
     "execution_count": 105,
     "metadata": {},
     "output_type": "execute_result"
    }
   ],
   "source": [
    "len(trd[0])\n",
    "trd[0]"
   ]
  },
  {
   "cell_type": "code",
   "execution_count": 106,
   "metadata": {},
   "outputs": [
    {
     "data": {
      "text/plain": [
       "0.351789343"
      ]
     },
     "execution_count": 106,
     "metadata": {},
     "output_type": "execute_result"
    }
   ],
   "source": [
    "trds[0]"
   ]
  },
  {
   "cell_type": "code",
   "execution_count": null,
   "metadata": {},
   "outputs": [],
   "source": []
  },
  {
   "cell_type": "code",
   "execution_count": 107,
   "metadata": {},
   "outputs": [],
   "source": [
    "from tensorflow.keras.models import Sequential\n",
    "from tensorflow.keras.layers import Dense\n",
    "from tensorflow.keras.optimizers import SGD"
   ]
  },
  {
   "cell_type": "code",
   "execution_count": 92,
   "metadata": {},
   "outputs": [],
   "source": [
    "model = Sequential()\n",
    "model.add(Dense(200,input_dim=47,activation='relu'))\n",
    "model.add(Dense(100,activation='relu'))\n",
    "model.add(Dense(64,activation='relu'))\n",
    "model.add(Dense(1,activation='softmax'))\n",
    "model.compile(loss='mse',optimizer=SGD(lr=0.000000000001),metrics=['accuracy'])"
   ]
  },
  {
   "cell_type": "code",
   "execution_count": 93,
   "metadata": {},
   "outputs": [
    {
     "name": "stdout",
     "output_type": "stream",
     "text": [
      "Model: \"sequential_9\"\n",
      "_________________________________________________________________\n",
      "Layer (type)                 Output Shape              Param #   \n",
      "=================================================================\n",
      "dense_36 (Dense)             (None, 200)               9600      \n",
      "_________________________________________________________________\n",
      "dense_37 (Dense)             (None, 100)               20100     \n",
      "_________________________________________________________________\n",
      "dense_38 (Dense)             (None, 64)                6464      \n",
      "_________________________________________________________________\n",
      "dense_39 (Dense)             (None, 1)                 65        \n",
      "=================================================================\n",
      "Total params: 36,229\n",
      "Trainable params: 36,229\n",
      "Non-trainable params: 0\n",
      "_________________________________________________________________\n"
     ]
    }
   ],
   "source": [
    "model.summary()"
   ]
  },
  {
   "cell_type": "code",
   "execution_count": 94,
   "metadata": {},
   "outputs": [
    {
     "name": "stdout",
     "output_type": "stream",
     "text": [
      "Epoch 1/40\n",
      "6999/6999 [==============================] - 0s 59us/sample - loss: 0.6051 - acc: 1.4288e-04\n",
      "Epoch 2/40\n",
      "6999/6999 [==============================] - 0s 20us/sample - loss: 0.6051 - acc: 1.4288e-04\n",
      "Epoch 3/40\n",
      "6999/6999 [==============================] - 0s 21us/sample - loss: 0.6051 - acc: 1.4288e-04\n",
      "Epoch 4/40\n",
      "6999/6999 [==============================] - 0s 20us/sample - loss: 0.6051 - acc: 1.4288e-04\n",
      "Epoch 5/40\n",
      "6999/6999 [==============================] - 0s 21us/sample - loss: 0.6051 - acc: 1.4288e-04\n",
      "Epoch 6/40\n",
      "6999/6999 [==============================] - 0s 20us/sample - loss: 0.6051 - acc: 1.4288e-04\n",
      "Epoch 7/40\n",
      "6999/6999 [==============================] - 0s 19us/sample - loss: 0.6051 - acc: 1.4288e-04\n",
      "Epoch 8/40\n",
      "6999/6999 [==============================] - 0s 22us/sample - loss: 0.6051 - acc: 1.4288e-04\n",
      "Epoch 9/40\n",
      "6999/6999 [==============================] - 0s 20us/sample - loss: 0.6051 - acc: 1.4288e-04\n",
      "Epoch 10/40\n",
      "6999/6999 [==============================] - 0s 20us/sample - loss: 0.6051 - acc: 1.4288e-04\n",
      "Epoch 11/40\n",
      "6999/6999 [==============================] - 0s 21us/sample - loss: 0.6051 - acc: 1.4288e-04\n",
      "Epoch 12/40\n",
      "6999/6999 [==============================] - 0s 21us/sample - loss: 0.6051 - acc: 1.4288e-04\n",
      "Epoch 13/40\n",
      "6999/6999 [==============================] - 0s 21us/sample - loss: 0.6051 - acc: 1.4288e-04\n",
      "Epoch 14/40\n",
      "6999/6999 [==============================] - 0s 20us/sample - loss: 0.6051 - acc: 1.4288e-04\n",
      "Epoch 15/40\n",
      "6999/6999 [==============================] - 0s 24us/sample - loss: 0.6051 - acc: 1.4288e-04\n",
      "Epoch 16/40\n",
      "6999/6999 [==============================] - 0s 20us/sample - loss: 0.6051 - acc: 1.4288e-04\n",
      "Epoch 17/40\n",
      "6999/6999 [==============================] - 0s 22us/sample - loss: 0.6051 - acc: 1.4288e-04\n",
      "Epoch 18/40\n",
      "6999/6999 [==============================] - 0s 19us/sample - loss: 0.6051 - acc: 1.4288e-04\n",
      "Epoch 19/40\n",
      "6999/6999 [==============================] - 0s 19us/sample - loss: 0.6051 - acc: 1.4288e-04\n",
      "Epoch 20/40\n",
      "6999/6999 [==============================] - 0s 28us/sample - loss: 0.6051 - acc: 1.4288e-04\n",
      "Epoch 21/40\n",
      "6999/6999 [==============================] - 0s 21us/sample - loss: 0.6051 - acc: 1.4288e-04\n",
      "Epoch 22/40\n",
      "6999/6999 [==============================] - 0s 23us/sample - loss: 0.6051 - acc: 1.4288e-04\n",
      "Epoch 23/40\n",
      "6999/6999 [==============================] - 0s 20us/sample - loss: 0.6051 - acc: 1.4288e-04\n",
      "Epoch 24/40\n",
      "6999/6999 [==============================] - 0s 19us/sample - loss: 0.6051 - acc: 1.4288e-04\n",
      "Epoch 25/40\n",
      "6999/6999 [==============================] - 0s 19us/sample - loss: 0.6051 - acc: 1.4288e-04\n",
      "Epoch 26/40\n",
      "6999/6999 [==============================] - 0s 20us/sample - loss: 0.6051 - acc: 1.4288e-04\n",
      "Epoch 27/40\n",
      "6999/6999 [==============================] - 0s 20us/sample - loss: 0.6051 - acc: 1.4288e-04\n",
      "Epoch 28/40\n",
      "6999/6999 [==============================] - 0s 20us/sample - loss: 0.6051 - acc: 1.4288e-04\n",
      "Epoch 29/40\n",
      "6999/6999 [==============================] - 0s 22us/sample - loss: 0.6051 - acc: 1.4288e-04\n",
      "Epoch 30/40\n",
      "6999/6999 [==============================] - 0s 19us/sample - loss: 0.6051 - acc: 1.4288e-04\n",
      "Epoch 31/40\n",
      "6999/6999 [==============================] - 0s 19us/sample - loss: 0.6051 - acc: 1.4288e-04\n",
      "Epoch 32/40\n",
      "6999/6999 [==============================] - 0s 20us/sample - loss: 0.6051 - acc: 1.4288e-04\n",
      "Epoch 33/40\n",
      "6999/6999 [==============================] - 0s 20us/sample - loss: 0.6051 - acc: 1.4288e-04\n",
      "Epoch 34/40\n",
      "6999/6999 [==============================] - 0s 20us/sample - loss: 0.6051 - acc: 1.4288e-04\n",
      "Epoch 35/40\n",
      "6999/6999 [==============================] - 0s 20us/sample - loss: 0.6051 - acc: 1.4288e-04\n",
      "Epoch 36/40\n",
      "6999/6999 [==============================] - 0s 19us/sample - loss: 0.6051 - acc: 1.4288e-04\n",
      "Epoch 37/40\n",
      "6999/6999 [==============================] - 0s 25us/sample - loss: 0.6051 - acc: 1.4288e-04\n",
      "Epoch 38/40\n",
      "6999/6999 [==============================] - 0s 20us/sample - loss: 0.6051 - acc: 1.4288e-04\n",
      "Epoch 39/40\n",
      "6999/6999 [==============================] - 0s 24us/sample - loss: 0.6051 - acc: 1.4288e-04\n",
      "Epoch 40/40\n",
      "6999/6999 [==============================] - 0s 20us/sample - loss: 0.6051 - acc: 1.4288e-04\n"
     ]
    },
    {
     "data": {
      "text/plain": [
       "<tensorflow.python.keras.callbacks.History at 0x19ecbefcfc8>"
      ]
     },
     "execution_count": 94,
     "metadata": {},
     "output_type": "execute_result"
    }
   ],
   "source": [
    "model.fit(trd,trds,batch_size=200,epochs=40)"
   ]
  },
  {
   "cell_type": "code",
   "execution_count": 87,
   "metadata": {},
   "outputs": [],
   "source": [
    "result = model.predict_classes(ted)"
   ]
  },
  {
   "cell_type": "code",
   "execution_count": 88,
   "metadata": {},
   "outputs": [
    {
     "data": {
      "application/vnd.jupyter.widget-view+json": {
       "model_id": "2fdd0b6c0e4d473aa0971adf3882241a",
       "version_major": 2,
       "version_minor": 0
      },
      "text/plain": [
       "interactive(children=(IntSlider(value=0, description='測試編號', max=1684), Button(description='Run Interact', sty…"
      ]
     },
     "metadata": {},
     "output_type": "display_data"
    },
    {
     "name": "stdout",
     "output_type": "stream",
     "text": [
      "0.2463809863\n"
     ]
    }
   ],
   "source": [
    "def show_xy(測試編號=0):\n",
    "    X = ted[測試編號]\n",
    "    print(f'神經網路預測的答案為: {result[測試編號]}')\n",
    "interact_manual(show_xy,測試編號=(0,1684));\n",
    "print(teds[0])"
   ]
  },
  {
   "cell_type": "code",
   "execution_count": 69,
   "metadata": {},
   "outputs": [
    {
     "data": {
      "text/plain": [
       "0.35118050030000003"
      ]
     },
     "execution_count": 69,
     "metadata": {},
     "output_type": "execute_result"
    }
   ],
   "source": [
    "teds[1684]"
   ]
  },
  {
   "cell_type": "code",
   "execution_count": 108,
   "metadata": {},
   "outputs": [],
   "source": [
    "def get_compiled_model():\n",
    "  model = tf.keras.Sequential([\n",
    "    tf.keras.layers.Dense(128, activation='relu'),\n",
    "    tf.keras.layers.Dense(64, activation='relu'),\n",
    "    tf.keras.layers.Dense(1)\n",
    "  ])\n",
    "\n",
    "  model.compile(optimizer='adam',\n",
    "                loss=tf.keras.losses.BinaryCrossentropy(from_logits=True),\n",
    "                metrics=['accuracy'])\n",
    "  return model"
   ]
  },
  {
   "cell_type": "code",
   "execution_count": 109,
   "metadata": {},
   "outputs": [
    {
     "name": "stdout",
     "output_type": "stream",
     "text": [
      "Epoch 1/15\n",
      "6999/6999 [==============================] - 15s 2ms/step - loss: 0.5313 - acc: 4.2863e-04\n",
      "Epoch 2/15\n",
      "6999/6999 [==============================] - 14s 2ms/step - loss: 0.5281 - acc: 4.2863e-04\n",
      "Epoch 3/15\n",
      "6999/6999 [==============================] - 22s 3ms/step - loss: 0.5272 - acc: 4.2863e-04\n",
      "Epoch 4/15\n",
      "6999/6999 [==============================] - 8s 1ms/step - loss: 0.5265 - acc: 4.2863e-04\n",
      "Epoch 5/15\n",
      "6999/6999 [==============================] - 10s 1ms/step - loss: 0.5260 - acc: 4.2863e-04\n",
      "Epoch 6/15\n",
      "6999/6999 [==============================] - 9s 1ms/step - loss: 0.5258 - acc: 4.2863e-04\n",
      "Epoch 7/15\n",
      "6999/6999 [==============================] - 8s 1ms/step - loss: 0.5256 - acc: 4.2863e-04A: 0s - loss: 0.5255 - acc: 4.3328e\n",
      "Epoch 8/15\n",
      "6999/6999 [==============================] - 8s 1ms/step - loss: 0.5254 - acc: 4.2863e-04\n",
      "Epoch 9/15\n",
      "6999/6999 [==============================] - 12s 2ms/step - loss: 0.5253 - acc: 4.2863e-04\n",
      "Epoch 10/15\n",
      "6999/6999 [==============================] - 17s 2ms/step - loss: 0.5252 - acc: 4.2863e-04: 1s - loss: 0.5247 - acc:\n",
      "Epoch 11/15\n",
      "6999/6999 [==============================] - 15s 2ms/step - loss: 0.5251 - acc: 5.7151e-04\n",
      "Epoch 12/15\n",
      "6999/6999 [==============================] - 18s 3ms/step - loss: 0.5250 - acc: 4.2863e-04\n",
      "Epoch 13/15\n",
      "6999/6999 [==============================] - 16s 2ms/step - loss: 0.5248 - acc: 4.2863e-04\n",
      "Epoch 14/15\n",
      "6999/6999 [==============================] - 18s 3ms/step - loss: 0.5248 - acc: 4.2863e-04\n",
      "Epoch 15/15\n",
      "6999/6999 [==============================] - 16s 2ms/step - loss: 0.5247 - acc: 4.2863e-04\n"
     ]
    },
    {
     "data": {
      "text/plain": [
       "<tensorflow.python.keras.callbacks.History at 0x19ecfac0b48>"
      ]
     },
     "execution_count": 109,
     "metadata": {},
     "output_type": "execute_result"
    }
   ],
   "source": [
    "dataset = tf.data.Dataset.from_tensor_slices((trd, trds))\n",
    "train_dataset = dataset.shuffle(len(train_data)).batch(1)\n",
    "\n",
    "\n",
    "model = get_compiled_model()\n",
    "model.fit(train_dataset, epochs=15)"
   ]
  },
  {
   "cell_type": "code",
   "execution_count": null,
   "metadata": {},
   "outputs": [],
   "source": []
  }
 ],
 "metadata": {
  "kernelspec": {
   "display_name": "Python 3",
   "language": "python",
   "name": "python3"
  },
  "language_info": {
   "codemirror_mode": {
    "name": "ipython",
    "version": 3
   },
   "file_extension": ".py",
   "mimetype": "text/x-python",
   "name": "python",
   "nbconvert_exporter": "python",
   "pygments_lexer": "ipython3",
   "version": "3.7.6"
  }
 },
 "nbformat": 4,
 "nbformat_minor": 4
}
