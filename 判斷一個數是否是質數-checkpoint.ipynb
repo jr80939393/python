{
 "cells": [
  {
   "cell_type": "code",
   "execution_count": 7,
   "metadata": {},
   "outputs": [
    {
     "name": "stdout",
     "output_type": "stream",
     "text": [
      "Please input a number: 20\n",
      "20 不是質數\n",
      "因為 2 乘 10 是 20\n"
     ]
    }
   ],
   "source": [
    "num = int(input(\"Please input a number: \"))\n",
    " \n",
    "if num > 1:\n",
    "   for i in range(2,num):\n",
    "       if (num % i) == 0:\n",
    "           print(num,\"不是質數\")\n",
    "           print(\"因為\",i,\"乘\",num//i,\"是\",num)\n",
    "           break\n",
    "   else:\n",
    "       print(num,\"是質數\")\n",
    "       \n",
    "else:\n",
    "   print(num,\"不是質數\")"
   ]
  },
  {
   "cell_type": "code",
   "execution_count": null,
   "metadata": {},
   "outputs": [],
   "source": []
  }
 ],
 "metadata": {
  "kernelspec": {
   "display_name": "Python 3",
   "language": "python",
   "name": "python3"
  },
  "language_info": {
   "codemirror_mode": {
    "name": "ipython",
    "version": 3
   },
   "file_extension": ".py",
   "mimetype": "text/x-python",
   "name": "python",
   "nbconvert_exporter": "python",
   "pygments_lexer": "ipython3",
   "version": "3.7.6"
  }
 },
 "nbformat": 4,
 "nbformat_minor": 4
}
