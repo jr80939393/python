{
 "cells": [
  {
   "cell_type": "code",
   "execution_count": 1,
   "metadata": {},
   "outputs": [],
   "source": [
    "### 將Fliter個數做調整\n",
    "### 將learning rate改為0.08\n",
    "### 試試其中一個fliter改成1*1\n",
    "### 訓練次數增加\n",
    "### 神經元個數修改"
   ]
  },
  {
   "cell_type": "code",
   "execution_count": 48,
   "metadata": {},
   "outputs": [],
   "source": [
    "%matplotlib inline\n",
    "import numpy as np\n",
    "import matplotlib.pyplot as plt\n",
    "import tensorflow as tf\n",
    "from ipywidgets import interact_manual\n",
    "from tensorflow.keras.datasets import fashion_mnist"
   ]
  },
  {
   "cell_type": "code",
   "execution_count": 3,
   "metadata": {},
   "outputs": [],
   "source": [
    "(x_train,y_train),(x_test,y_test) = fashion_mnist.load_data()"
   ]
  },
  {
   "cell_type": "code",
   "execution_count": 4,
   "metadata": {},
   "outputs": [
    {
     "name": "stdout",
     "output_type": "stream",
     "text": [
      "訓練資料總筆數為60000筆資料\n",
      "測試資料總筆數為10000筆資料\n"
     ]
    }
   ],
   "source": [
    "print(f'訓練資料總筆數為{len(x_train)}筆資料',f'測試資料總筆數為{len(x_test)}筆資料',sep='\\n')"
   ]
  },
  {
   "cell_type": "code",
   "execution_count": 5,
   "metadata": {},
   "outputs": [
    {
     "data": {
      "text/plain": [
       "(60000, 28, 28)"
      ]
     },
     "execution_count": 5,
     "metadata": {},
     "output_type": "execute_result"
    }
   ],
   "source": [
    "x_train.shape"
   ]
  },
  {
   "cell_type": "code",
   "execution_count": 6,
   "metadata": {},
   "outputs": [],
   "source": [
    "labels = {\n",
    "    0:'T-shirt/top',\n",
    "    1:'Trouser',\n",
    "    2:'Pullover',\n",
    "    3:'Dress',\n",
    "    4:'Coat',\n",
    "    5:'Sandal',\n",
    "    6:'Shirt',\n",
    "    7:'Sneaker',\n",
    "    8:'Bag',\n",
    "    9:'Ankle boot'\n",
    "}"
   ]
  },
  {
   "cell_type": "code",
   "execution_count": 7,
   "metadata": {},
   "outputs": [
    {
     "data": {
      "application/vnd.jupyter.widget-view+json": {
       "model_id": "3037ff5580834e0486622f993ccac556",
       "version_major": 2,
       "version_minor": 0
      },
      "text/plain": [
       "interactive(children=(IntSlider(value=0, description='訓練編號', max=59999), Button(description='Run Interact', st…"
      ]
     },
     "metadata": {},
     "output_type": "display_data"
    }
   ],
   "source": [
    "def show_xy(訓練編號=0):\n",
    "    ax = plt.gca()\n",
    "    X = x_train[訓練編號]\n",
    "    plt.xticks([],[])\n",
    "    plt.yticks([],[])\n",
    "    plt.imshow(X,cmap='Greys')\n",
    "    print(f'該資料 y 給定的答案為: {labels[y_train[訓練編號]]}')\n",
    "interact_manual(show_xy,訓練編號=(0,59999));"
   ]
  },
  {
   "cell_type": "code",
   "execution_count": 8,
   "metadata": {},
   "outputs": [],
   "source": [
    "# CNN 要注意一張圖有多少個 channel, 開始我們因為只有灰階, 所以只有一個 channel。因此我們要轉一下我們的資料格式:\n",
    "# (28,28) --> (28, 28, 1)"
   ]
  },
  {
   "cell_type": "code",
   "execution_count": 9,
   "metadata": {},
   "outputs": [],
   "source": [
    "x_train = x_train.reshape(60000, 28, 28, 1) / 255\n",
    "x_test = x_test.reshape(10000, 28, 28, 1) / 255"
   ]
  },
  {
   "cell_type": "code",
   "execution_count": 10,
   "metadata": {},
   "outputs": [
    {
     "data": {
      "text/plain": [
       "(28, 28, 1)"
      ]
     },
     "execution_count": 10,
     "metadata": {},
     "output_type": "execute_result"
    }
   ],
   "source": [
    "x_train[87].shape"
   ]
  },
  {
   "cell_type": "code",
   "execution_count": 11,
   "metadata": {},
   "outputs": [
    {
     "data": {
      "text/plain": [
       "7"
      ]
     },
     "execution_count": 11,
     "metadata": {},
     "output_type": "execute_result"
    }
   ],
   "source": [
    "y_train[87]"
   ]
  },
  {
   "cell_type": "code",
   "execution_count": 12,
   "metadata": {},
   "outputs": [],
   "source": [
    "from tensorflow.keras.utils import to_categorical\n",
    "y_train = to_categorical(y_train, 10)\n",
    "y_test = to_categorical(y_test, 10)"
   ]
  },
  {
   "cell_type": "code",
   "execution_count": 13,
   "metadata": {},
   "outputs": [],
   "source": [
    "from tensorflow.keras.models import Sequential\n",
    "from tensorflow.keras.layers import Conv2D, MaxPooling2D\n",
    "from tensorflow.keras.layers import Dense, Flatten\n",
    "from tensorflow.keras.optimizers import SGD"
   ]
  },
  {
   "cell_type": "code",
   "execution_count": 14,
   "metadata": {},
   "outputs": [],
   "source": [
    "model = Sequential()"
   ]
  },
  {
   "cell_type": "code",
   "execution_count": 15,
   "metadata": {},
   "outputs": [
    {
     "name": "stdout",
     "output_type": "stream",
     "text": [
      "WARNING:tensorflow:From C:\\Users\\huhu\\anaconda3\\lib\\site-packages\\tensorflow\\python\\ops\\init_ops.py:1251: calling VarianceScaling.__init__ (from tensorflow.python.ops.init_ops) with dtype is deprecated and will be removed in a future version.\n",
      "Instructions for updating:\n",
      "Call initializer instance with the dtype argument instead of passing it to the constructor\n"
     ]
    }
   ],
   "source": [
    "model.add(Conv2D(16, (3,3), padding='same',\n",
    "                input_shape=(28,28,1),\n",
    "                activation='relu'))"
   ]
  },
  {
   "cell_type": "code",
   "execution_count": 16,
   "metadata": {},
   "outputs": [],
   "source": [
    "# 輸出 16 個 28x28 矩陣\n",
    "# 事實上是 (28, 28, 16)"
   ]
  },
  {
   "cell_type": "code",
   "execution_count": 17,
   "metadata": {},
   "outputs": [],
   "source": [
    "model.add(MaxPooling2D(pool_size=(2,2)))"
   ]
  },
  {
   "cell_type": "code",
   "execution_count": 18,
   "metadata": {},
   "outputs": [],
   "source": [
    "# (14,14,16)"
   ]
  },
  {
   "cell_type": "code",
   "execution_count": 19,
   "metadata": {},
   "outputs": [],
   "source": [
    "model.add(Conv2D(48, (1,1), padding='same',\n",
    "                activation='relu'))"
   ]
  },
  {
   "cell_type": "code",
   "execution_count": 20,
   "metadata": {},
   "outputs": [],
   "source": [
    "# output (14, 14, 48) "
   ]
  },
  {
   "cell_type": "code",
   "execution_count": 21,
   "metadata": {},
   "outputs": [],
   "source": [
    "model.add(MaxPooling2D(pool_size=(2,2)))"
   ]
  },
  {
   "cell_type": "code",
   "execution_count": 22,
   "metadata": {},
   "outputs": [],
   "source": [
    "# output (7, 7, 48) "
   ]
  },
  {
   "cell_type": "code",
   "execution_count": 23,
   "metadata": {},
   "outputs": [],
   "source": [
    "model.add(Conv2D(96, (3,3), padding='same',\n",
    "                activation='relu'))"
   ]
  },
  {
   "cell_type": "code",
   "execution_count": 24,
   "metadata": {},
   "outputs": [],
   "source": [
    "# output (7, 7, 96) "
   ]
  },
  {
   "cell_type": "code",
   "execution_count": 25,
   "metadata": {},
   "outputs": [],
   "source": [
    "model.add(MaxPooling2D(pool_size=(2,2)))"
   ]
  },
  {
   "cell_type": "code",
   "execution_count": 26,
   "metadata": {},
   "outputs": [],
   "source": [
    "# output (3, 3, 96) "
   ]
  },
  {
   "cell_type": "code",
   "execution_count": 27,
   "metadata": {},
   "outputs": [],
   "source": [
    "model.add(Flatten())"
   ]
  },
  {
   "cell_type": "code",
   "execution_count": 28,
   "metadata": {},
   "outputs": [],
   "source": [
    "model.add(Dense(150, activation='relu'))"
   ]
  },
  {
   "cell_type": "code",
   "execution_count": 29,
   "metadata": {},
   "outputs": [],
   "source": [
    "model.add(Dense(10, activation='softmax'))"
   ]
  },
  {
   "cell_type": "code",
   "execution_count": 30,
   "metadata": {},
   "outputs": [
    {
     "name": "stdout",
     "output_type": "stream",
     "text": [
      "Model: \"sequential\"\n",
      "_________________________________________________________________\n",
      "Layer (type)                 Output Shape              Param #   \n",
      "=================================================================\n",
      "conv2d (Conv2D)              (None, 28, 28, 16)        160       \n",
      "_________________________________________________________________\n",
      "max_pooling2d (MaxPooling2D) (None, 14, 14, 16)        0         \n",
      "_________________________________________________________________\n",
      "conv2d_1 (Conv2D)            (None, 14, 14, 48)        816       \n",
      "_________________________________________________________________\n",
      "max_pooling2d_1 (MaxPooling2 (None, 7, 7, 48)          0         \n",
      "_________________________________________________________________\n",
      "conv2d_2 (Conv2D)            (None, 7, 7, 96)          41568     \n",
      "_________________________________________________________________\n",
      "max_pooling2d_2 (MaxPooling2 (None, 3, 3, 96)          0         \n",
      "_________________________________________________________________\n",
      "flatten (Flatten)            (None, 864)               0         \n",
      "_________________________________________________________________\n",
      "dense (Dense)                (None, 150)               129750    \n",
      "_________________________________________________________________\n",
      "dense_1 (Dense)              (None, 10)                1510      \n",
      "=================================================================\n",
      "Total params: 173,804\n",
      "Trainable params: 173,804\n",
      "Non-trainable params: 0\n",
      "_________________________________________________________________\n"
     ]
    }
   ],
   "source": [
    "model.summary()"
   ]
  },
  {
   "cell_type": "code",
   "execution_count": 31,
   "metadata": {},
   "outputs": [
    {
     "name": "stdout",
     "output_type": "stream",
     "text": [
      "[3*3 (權重) + 1 (bias)]*16個filters = 160\n",
      "[1*1(權重)*16個channels + 1 (bias)]*48個filters = 816\n",
      "[3*3(權重)*48個channels + 1 (bias)]*96個filters = 41568\n",
      "Flatten = 864\n",
      "dense = 129600\n"
     ]
    }
   ],
   "source": [
    "print('[3*3 (權重) + 1 (bias)]*16個filters =',(3*3+1)*16)\n",
    "\n",
    "print('[1*1(權重)*16個channels + 1 (bias)]*48個filters =',(1*1*16+1)*48)\n",
    "\n",
    "print('[3*3(權重)*48個channels + 1 (bias)]*96個filters =',(3*3*48+1)*96)\n",
    "\n",
    "print('Flatten =',3*3*96)\n",
    "\n",
    "print('dense =',864*150)"
   ]
  },
  {
   "cell_type": "code",
   "execution_count": 32,
   "metadata": {},
   "outputs": [],
   "source": [
    "model.compile(loss='mse', optimizer=SGD(lr=0.08),\n",
    "             metrics=['accuracy'])"
   ]
  },
  {
   "cell_type": "code",
   "execution_count": 33,
   "metadata": {},
   "outputs": [
    {
     "name": "stdout",
     "output_type": "stream",
     "text": [
      "Epoch 1/30\n",
      "60000/60000 [==============================] - 34s 560us/sample - loss: 0.0894 - acc: 0.2682\n",
      "Epoch 2/30\n",
      "60000/60000 [==============================] - 36s 603us/sample - loss: 0.0881 - acc: 0.3891\n",
      "Epoch 3/30\n",
      "60000/60000 [==============================] - 36s 604us/sample - loss: 0.0839 - acc: 0.4021\n",
      "Epoch 4/30\n",
      "60000/60000 [==============================] - 36s 606us/sample - loss: 0.0600 - acc: 0.5823\n",
      "Epoch 5/30\n",
      "60000/60000 [==============================] - 36s 607us/sample - loss: 0.0422 - acc: 0.6976\n",
      "Epoch 6/30\n",
      "60000/60000 [==============================] - 37s 611us/sample - loss: 0.0376 - acc: 0.7319\n",
      "Epoch 7/30\n",
      "60000/60000 [==============================] - 37s 612us/sample - loss: 0.0355 - acc: 0.7497\n",
      "Epoch 8/30\n",
      "60000/60000 [==============================] - 37s 612us/sample - loss: 0.0339 - acc: 0.7606\n",
      "Epoch 9/30\n",
      "60000/60000 [==============================] - 37s 615us/sample - loss: 0.0327 - acc: 0.7683\n",
      "Epoch 10/30\n",
      "60000/60000 [==============================] - 37s 615us/sample - loss: 0.0318 - acc: 0.7742\n",
      "Epoch 11/30\n",
      "60000/60000 [==============================] - 37s 615us/sample - loss: 0.0308 - acc: 0.7817\n",
      "Epoch 12/30\n",
      "60000/60000 [==============================] - 37s 622us/sample - loss: 0.0300 - acc: 0.7873\n",
      "Epoch 13/30\n",
      "60000/60000 [==============================] - 37s 616us/sample - loss: 0.0292 - acc: 0.7928\n",
      "Epoch 14/30\n",
      "60000/60000 [==============================] - 37s 614us/sample - loss: 0.0286 - acc: 0.7990\n",
      "Epoch 15/30\n",
      "60000/60000 [==============================] - 37s 615us/sample - loss: 0.0280 - acc: 0.8029\n",
      "Epoch 16/30\n",
      "60000/60000 [==============================] - 37s 617us/sample - loss: 0.0274 - acc: 0.8073\n",
      "Epoch 17/30\n",
      "60000/60000 [==============================] - 37s 618us/sample - loss: 0.0270 - acc: 0.8127\n",
      "Epoch 18/30\n",
      "60000/60000 [==============================] - 37s 621us/sample - loss: 0.0263 - acc: 0.8160\n",
      "Epoch 19/30\n",
      "60000/60000 [==============================] - 37s 624us/sample - loss: 0.0259 - acc: 0.8188\n",
      "Epoch 20/30\n",
      "60000/60000 [==============================] - 38s 625us/sample - loss: 0.0254 - acc: 0.8236\n",
      "Epoch 21/30\n",
      "60000/60000 [==============================] - 38s 629us/sample - loss: 0.0249 - acc: 0.8268\n",
      "Epoch 22/30\n",
      "60000/60000 [==============================] - 38s 630us/sample - loss: 0.0245 - acc: 0.8297\n",
      "Epoch 23/30\n",
      "60000/60000 [==============================] - 38s 632us/sample - loss: 0.0241 - acc: 0.8328\n",
      "Epoch 24/30\n",
      "60000/60000 [==============================] - 38s 634us/sample - loss: 0.0238 - acc: 0.8356\n",
      "Epoch 25/30\n",
      "60000/60000 [==============================] - 38s 631us/sample - loss: 0.0233 - acc: 0.8386\n",
      "Epoch 26/30\n",
      "60000/60000 [==============================] - 38s 628us/sample - loss: 0.0230 - acc: 0.8400\n",
      "Epoch 27/30\n",
      "60000/60000 [==============================] - 38s 631us/sample - loss: 0.0228 - acc: 0.8418\n",
      "Epoch 28/30\n",
      "60000/60000 [==============================] - 38s 634us/sample - loss: 0.0224 - acc: 0.8451\n",
      "Epoch 29/30\n",
      "60000/60000 [==============================] - 38s 638us/sample - loss: 0.0222 - acc: 0.8464\n",
      "Epoch 30/30\n",
      "60000/60000 [==============================] - 38s 635us/sample - loss: 0.0219 - acc: 0.8495\n"
     ]
    },
    {
     "data": {
      "text/plain": [
       "<tensorflow.python.keras.callbacks.History at 0x19ffc2eaac8>"
      ]
     },
     "execution_count": 33,
     "metadata": {},
     "output_type": "execute_result"
    }
   ],
   "source": [
    "model.fit(x_train, y_train, batch_size=128, epochs=30)"
   ]
  },
  {
   "cell_type": "code",
   "execution_count": 41,
   "metadata": {},
   "outputs": [],
   "source": [
    "result = model.predict_classes(x_test)"
   ]
  },
  {
   "cell_type": "code",
   "execution_count": 42,
   "metadata": {},
   "outputs": [
    {
     "data": {
      "application/vnd.jupyter.widget-view+json": {
       "model_id": "c03daed104864df7b9cde014dbc1bdbf",
       "version_major": 2,
       "version_minor": 0
      },
      "text/plain": [
       "interactive(children=(IntSlider(value=0, description='測試編號', max=9999), Button(description='Run Interact', sty…"
      ]
     },
     "metadata": {},
     "output_type": "display_data"
    }
   ],
   "source": [
    "def show_xy(測試編號=0):\n",
    "    ax = plt.gca()\n",
    "    X = x_test[測試編號]\n",
    "    plt.xticks([],[])\n",
    "    plt.yticks([],[])\n",
    "    plt.imshow(x_test[測試編號].reshape(28,28),cmap='Greys')\n",
    "    print(f'神經網路預測的答案為: {labels[result[測試編號]]}')\n",
    "interact_manual(show_xy,測試編號=(0,9999));"
   ]
  },
  {
   "cell_type": "code",
   "execution_count": 43,
   "metadata": {},
   "outputs": [],
   "source": [
    "from ipywidgets import interact_manual"
   ]
  },
  {
   "cell_type": "code",
   "execution_count": 44,
   "metadata": {},
   "outputs": [
    {
     "name": "stdout",
     "output_type": "stream",
     "text": [
      "10000/10000 [==============================] - 2s 216us/sample - loss: 0.0237 - acc: 0.8364\n"
     ]
    }
   ],
   "source": [
    "score = model.evaluate(x_test, y_test)"
   ]
  },
  {
   "cell_type": "code",
   "execution_count": 45,
   "metadata": {},
   "outputs": [],
   "source": [
    "loss, acc = score"
   ]
  },
  {
   "cell_type": "code",
   "execution_count": 46,
   "metadata": {},
   "outputs": [
    {
     "name": "stdout",
     "output_type": "stream",
     "text": [
      "測試資料的正確率為 0.8364\n"
     ]
    }
   ],
   "source": [
    "print('測試資料的正確率為', acc)"
   ]
  },
  {
   "cell_type": "code",
   "execution_count": 47,
   "metadata": {},
   "outputs": [
    {
     "name": "stdout",
     "output_type": "stream",
     "text": [
      "神經網路預測是: T-shirt/top\n"
     ]
    },
    {
     "data": {
      "text/plain": [
       "<matplotlib.image.AxesImage at 0x19f9aa59b88>"
      ]
     },
     "execution_count": 47,
     "metadata": {},
     "output_type": "execute_result"
    },
    {
     "data": {
      "image/png": "[encoded data removed]",
      "text/plain": [
       "<Figure size 432x288 with 1 Axes>"
      ]
     },
     "metadata": {
      "needs_background": "light"
     },
     "output_type": "display_data"
    }
   ],
   "source": [
    "n=7778\n",
    "print('神經網路預測是:',labels[result[n]])\n",
    "plt.imshow(x_test[n].reshape(28,28),cmap='Greys')"
   ]
  },
  {
   "cell_type": "code",
   "execution_count": null,
   "metadata": {},
   "outputs": [],
   "source": []
  },
  {
   "cell_type": "code",
   "execution_count": null,
   "metadata": {},
   "outputs": [],
   "source": []
  },
  {
   "cell_type": "code",
   "execution_count": null,
   "metadata": {},
   "outputs": [],
   "source": []
  }
 ],
 "metadata": {
  "kernelspec": {
   "display_name": "Python 3",
   "language": "python",
   "name": "python3"
  },
  "language_info": {
   "codemirror_mode": {
    "name": "ipython",
    "version": 3
   },
   "file_extension": ".py",
   "mimetype": "text/x-python",
   "name": "python",
   "nbconvert_exporter": "python",
   "pygments_lexer": "ipython3",
   "version": "3.7.6"
  }
 },
 "nbformat": 4,
 "nbformat_minor": 4
}
