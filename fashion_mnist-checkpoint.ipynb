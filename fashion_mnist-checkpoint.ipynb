{
 "cells": [
  {
   "cell_type": "code",
   "execution_count": 125,
   "metadata": {},
   "outputs": [],
   "source": [
    "%matplotlib inline\n",
    "import numpy as np\n",
    "import matplotlib.pyplot as plt\n",
    "import tensorflow as tf\n",
    "from ipywidgets import interact_manual\n",
    "from tensorflow.keras.datasets import fashion_mnist"
   ]
  },
  {
   "cell_type": "code",
   "execution_count": 126,
   "metadata": {},
   "outputs": [],
   "source": [
    "(x_train,y_train),(x_test,y_test) = fashion_mnist.load_data()"
   ]
  },
  {
   "cell_type": "code",
   "execution_count": 127,
   "metadata": {},
   "outputs": [
    {
     "name": "stdout",
     "output_type": "stream",
     "text": [
      "訓練資料總筆數為60000筆資料\n",
      "測試資料總筆數為10000筆資料\n"
     ]
    }
   ],
   "source": [
    "print(f'訓練資料總筆數為{len(x_train)}筆資料',f'測試資料總筆數為{len(x_test)}筆資料',sep='\\n')"
   ]
  },
  {
   "cell_type": "code",
   "execution_count": 128,
   "metadata": {},
   "outputs": [],
   "source": [
    "labels = {\n",
    "    0:'T-shirt/top',\n",
    "    1:'Trouser',\n",
    "    2:'Pullover',\n",
    "    3:'Dress',\n",
    "    4:'Coat',\n",
    "    5:'Sandal',\n",
    "    6:'Shirt',\n",
    "    7:'Sneaker',\n",
    "    8:'Bag',\n",
    "    9:'Ankle boot'\n",
    "}"
   ]
  },
  {
   "cell_type": "code",
   "execution_count": 132,
   "metadata": {},
   "outputs": [
    {
     "data": {
      "application/vnd.jupyter.widget-view+json": {
       "model_id": "2a706fc535d342039bd7e48b7233c649",
       "version_major": 2,
       "version_minor": 0
      },
      "text/plain": [
       "interactive(children=(IntSlider(value=0, description='訓練編號', max=59999), Button(description='Run Interact', st…"
      ]
     },
     "metadata": {},
     "output_type": "display_data"
    }
   ],
   "source": [
    "def show_xy(訓練編號=0):\n",
    "    ax = plt.gca()\n",
    "    X = x_train[訓練編號]\n",
    "    plt.xticks([],[])\n",
    "    plt.yticks([],[])\n",
    "    plt.imshow(X,cmap='Greys')\n",
    "    print(f'該資料 y 給定的答案為: {labels[y_train[訓練編號]]}')\n",
    "interact_manual(show_xy,訓練編號=(0,59999));"
   ]
  },
  {
   "cell_type": "code",
   "execution_count": 133,
   "metadata": {},
   "outputs": [],
   "source": [
    "x_train = x_train/255\n",
    "x_test = x_test/255"
   ]
  },
  {
   "cell_type": "code",
   "execution_count": 134,
   "metadata": {},
   "outputs": [
    {
     "data": {
      "text/plain": [
       "(60000, 28, 28)"
      ]
     },
     "execution_count": 134,
     "metadata": {},
     "output_type": "execute_result"
    }
   ],
   "source": [
    "x_train.shape"
   ]
  },
  {
   "cell_type": "code",
   "execution_count": 135,
   "metadata": {},
   "outputs": [],
   "source": [
    "x_train = x_train.reshape(60000,784)\n",
    "x_test = x_test.reshape(10000,784)"
   ]
  },
  {
   "cell_type": "code",
   "execution_count": 136,
   "metadata": {},
   "outputs": [
    {
     "name": "stdout",
     "output_type": "stream",
     "text": [
      "(60000, 10)\n",
      "(10000, 10)\n"
     ]
    }
   ],
   "source": [
    "from tensorflow.keras.utils import to_categorical\n",
    "y_train = to_categorical(y_train,10)\n",
    "y_test = to_categorical(y_test,10)\n",
    "print(y_train.shape,y_test.shape,sep='\\n')"
   ]
  },
  {
   "cell_type": "code",
   "execution_count": 137,
   "metadata": {},
   "outputs": [],
   "source": [
    "from tensorflow.keras.models import Sequential\n",
    "from tensorflow.keras.layers import Dense\n",
    "from tensorflow.keras.optimizers import SGD"
   ]
  },
  {
   "cell_type": "code",
   "execution_count": 138,
   "metadata": {},
   "outputs": [],
   "source": [
    "model = Sequential()\n",
    "model.add(Dense(100,input_dim=784,activation='relu'))\n",
    "model.add(Dense(75,activation='relu'))\n",
    "model.add(Dense(50,activation='relu'))\n",
    "model.add(Dense(75,activation='relu'))\n",
    "model.add(Dense(100,activation='relu'))\n",
    "model.add(Dense(10,activation='softmax'))\n",
    "model.compile(loss='mse',optimizer=SGD(lr=0.085),metrics=['accuracy'])"
   ]
  },
  {
   "cell_type": "code",
   "execution_count": 139,
   "metadata": {},
   "outputs": [
    {
     "name": "stdout",
     "output_type": "stream",
     "text": [
      "Model: \"sequential_16\"\n",
      "_________________________________________________________________\n",
      "Layer (type)                 Output Shape              Param #   \n",
      "=================================================================\n",
      "dense_96 (Dense)             (None, 100)               78500     \n",
      "_________________________________________________________________\n",
      "dense_97 (Dense)             (None, 75)                7575      \n",
      "_________________________________________________________________\n",
      "dense_98 (Dense)             (None, 50)                3800      \n",
      "_________________________________________________________________\n",
      "dense_99 (Dense)             (None, 75)                3825      \n",
      "_________________________________________________________________\n",
      "dense_100 (Dense)            (None, 100)               7600      \n",
      "_________________________________________________________________\n",
      "dense_101 (Dense)            (None, 10)                1010      \n",
      "=================================================================\n",
      "Total params: 102,310\n",
      "Trainable params: 102,310\n",
      "Non-trainable params: 0\n",
      "_________________________________________________________________\n"
     ]
    }
   ],
   "source": [
    "model.summary()"
   ]
  },
  {
   "cell_type": "code",
   "execution_count": 140,
   "metadata": {},
   "outputs": [
    {
     "name": "stdout",
     "output_type": "stream",
     "text": [
      "Epoch 1/20\n",
      "60000/60000 [==============================] - 3s 42us/sample - loss: 0.0872 - acc: 0.3076\n",
      "Epoch 2/20\n",
      "60000/60000 [==============================] - 2s 38us/sample - loss: 0.0651 - acc: 0.5446\n",
      "Epoch 3/20\n",
      "60000/60000 [==============================] - 2s 39us/sample - loss: 0.0434 - acc: 0.6827\n",
      "Epoch 4/20\n",
      "60000/60000 [==============================] - 2s 37us/sample - loss: 0.0359 - acc: 0.7506\n",
      "Epoch 5/20\n",
      "60000/60000 [==============================] - 2s 40us/sample - loss: 0.0312 - acc: 0.7860\n",
      "Epoch 6/20\n",
      "60000/60000 [==============================] - 2s 37us/sample - loss: 0.0286 - acc: 0.8027\n",
      "Epoch 7/20\n",
      "60000/60000 [==============================] - 2s 39us/sample - loss: 0.0269 - acc: 0.8146\n",
      "Epoch 8/20\n",
      "60000/60000 [==============================] - 2s 36us/sample - loss: 0.0258 - acc: 0.8241\n",
      "Epoch 9/20\n",
      "60000/60000 [==============================] - 2s 39us/sample - loss: 0.0248 - acc: 0.8305\n",
      "Epoch 10/20\n",
      "60000/60000 [==============================] - 2s 36us/sample - loss: 0.0241 - acc: 0.8356\n",
      "Epoch 11/20\n",
      "60000/60000 [==============================] - 2s 38us/sample - loss: 0.0234 - acc: 0.8406\n",
      "Epoch 12/20\n",
      "60000/60000 [==============================] - 2s 38us/sample - loss: 0.0229 - acc: 0.8442\n",
      "Epoch 13/20\n",
      "60000/60000 [==============================] - 2s 41us/sample - loss: 0.0224 - acc: 0.8472\n",
      "Epoch 14/20\n",
      "60000/60000 [==============================] - 2s 38us/sample - loss: 0.0221 - acc: 0.8496\n",
      "Epoch 15/20\n",
      "60000/60000 [==============================] - 2s 41us/sample - loss: 0.0216 - acc: 0.8531\n",
      "Epoch 16/20\n",
      "60000/60000 [==============================] - 2s 39us/sample - loss: 0.0213 - acc: 0.8551\n",
      "Epoch 17/20\n",
      "60000/60000 [==============================] - 3s 42us/sample - loss: 0.0211 - acc: 0.8573\n",
      "Epoch 18/20\n",
      "60000/60000 [==============================] - 2s 39us/sample - loss: 0.0208 - acc: 0.8588\n",
      "Epoch 19/20\n",
      "60000/60000 [==============================] - 2s 41us/sample - loss: 0.0205 - acc: 0.8617\n",
      "Epoch 20/20\n",
      "60000/60000 [==============================] - 2s 39us/sample - loss: 0.0203 - acc: 0.8622\n"
     ]
    },
    {
     "data": {
      "text/plain": [
       "<tensorflow.python.keras.callbacks.History at 0x25a04374a48>"
      ]
     },
     "execution_count": 140,
     "metadata": {},
     "output_type": "execute_result"
    }
   ],
   "source": [
    "model.fit(x_train,y_train,batch_size=96,epochs=20)"
   ]
  },
  {
   "cell_type": "code",
   "execution_count": 141,
   "metadata": {},
   "outputs": [],
   "source": [
    "result = model.predict_classes(x_test)"
   ]
  },
  {
   "cell_type": "code",
   "execution_count": 143,
   "metadata": {},
   "outputs": [
    {
     "data": {
      "application/vnd.jupyter.widget-view+json": {
       "model_id": "6e371b9631d244cf95f43535994dbab4",
       "version_major": 2,
       "version_minor": 0
      },
      "text/plain": [
       "interactive(children=(IntSlider(value=0, description='測試編號', max=9999), Button(description='Run Interact', sty…"
      ]
     },
     "metadata": {},
     "output_type": "display_data"
    }
   ],
   "source": [
    "def show_xy(測試編號=0):\n",
    "    ax = plt.gca()\n",
    "    X = x_test[測試編號]\n",
    "    plt.xticks([],[])\n",
    "    plt.yticks([],[])\n",
    "    plt.imshow(x_test[測試編號].reshape(28,28),cmap='Greys')\n",
    "    print(f'神經網路預測的答案為: {labels[result[測試編號]]}')\n",
    "interact_manual(show_xy,測試編號=(0,9999));"
   ]
  },
  {
   "cell_type": "code",
   "execution_count": null,
   "metadata": {},
   "outputs": [],
   "source": []
  }
 ],
 "metadata": {
  "kernelspec": {
   "display_name": "Python 3",
   "language": "python",
   "name": "python3"
  },
  "language_info": {
   "codemirror_mode": {
    "name": "ipython",
    "version": 3
   },
   "file_extension": ".py",
   "mimetype": "text/x-python",
   "name": "python",
   "nbconvert_exporter": "python",
   "pygments_lexer": "ipython3",
   "version": "3.7.6"
  }
 },
 "nbformat": 4,
 "nbformat_minor": 4
}
