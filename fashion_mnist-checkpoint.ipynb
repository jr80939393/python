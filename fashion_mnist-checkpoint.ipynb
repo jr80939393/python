{
 "cells": [
  {
   "cell_type": "markdown",
   "metadata": {},
   "source": [
    "# 修改部分:\n",
    "### 隱藏層增加 10 層\n",
    "### Learning rate 改為 0.09\n",
    "### batch size 改為 30\n",
    "### 訓練次數增加為 40"
   ]
  },
  {
   "cell_type": "code",
   "execution_count": 8,
   "metadata": {},
   "outputs": [],
   "source": [
    "%matplotlib inline\n",
    "import numpy as np\n",
    "import matplotlib.pyplot as plt\n",
    "import tensorflow as tf\n",
    "from ipywidgets import interact_manual\n",
    "from tensorflow.keras.datasets import fashion_mnist"
   ]
  },
  {
   "cell_type": "code",
   "execution_count": 9,
   "metadata": {},
   "outputs": [],
   "source": [
    "(x_train,y_train),(x_test,y_test) = fashion_mnist.load_data()"
   ]
  },
  {
   "cell_type": "code",
   "execution_count": 10,
   "metadata": {},
   "outputs": [
    {
     "name": "stdout",
     "output_type": "stream",
     "text": [
      "訓練資料總筆數為60000筆資料\n",
      "測試資料總筆數為10000筆資料\n"
     ]
    }
   ],
   "source": [
    "print(f'訓練資料總筆數為{len(x_train)}筆資料',f'測試資料總筆數為{len(x_test)}筆資料',sep='\\n')"
   ]
  },
  {
   "cell_type": "code",
   "execution_count": 11,
   "metadata": {},
   "outputs": [],
   "source": [
    "labels = {\n",
    "    0:'T-shirt/top',\n",
    "    1:'Trouser',\n",
    "    2:'Pullover',\n",
    "    3:'Dress',\n",
    "    4:'Coat',\n",
    "    5:'Sandal',\n",
    "    6:'Shirt',\n",
    "    7:'Sneaker',\n",
    "    8:'Bag',\n",
    "    9:'Ankle boot'\n",
    "}"
   ]
  },
  {
   "cell_type": "code",
   "execution_count": 12,
   "metadata": {},
   "outputs": [
    {
     "data": {
      "application/vnd.jupyter.widget-view+json": {
       "model_id": "ca6d05d6f9d54478bfa5825d7ad51d1d",
       "version_major": 2,
       "version_minor": 0
      },
      "text/plain": [
       "interactive(children=(IntSlider(value=0, description='訓練編號', max=59999), Button(description='Run Interact', st…"
      ]
     },
     "metadata": {},
     "output_type": "display_data"
    }
   ],
   "source": [
    "def show_xy(訓練編號=0):\n",
    "    ax = plt.gca()\n",
    "    X = x_train[訓練編號]\n",
    "    plt.xticks([],[])\n",
    "    plt.yticks([],[])\n",
    "    plt.imshow(X,cmap='Greys')\n",
    "    print(f'該資料 y 給定的答案為: {labels[y_train[訓練編號]]}')\n",
    "interact_manual(show_xy,訓練編號=(0,59999));"
   ]
  },
  {
   "cell_type": "code",
   "execution_count": 13,
   "metadata": {},
   "outputs": [],
   "source": [
    "x_train = x_train/255\n",
    "x_test = x_test/255"
   ]
  },
  {
   "cell_type": "code",
   "execution_count": 14,
   "metadata": {},
   "outputs": [
    {
     "data": {
      "text/plain": [
       "(60000, 28, 28)"
      ]
     },
     "execution_count": 14,
     "metadata": {},
     "output_type": "execute_result"
    }
   ],
   "source": [
    "x_train.shape"
   ]
  },
  {
   "cell_type": "code",
   "execution_count": 15,
   "metadata": {},
   "outputs": [],
   "source": [
    "x_train = x_train.reshape(60000,784)\n",
    "x_test = x_test.reshape(10000,784)"
   ]
  },
  {
   "cell_type": "code",
   "execution_count": 16,
   "metadata": {},
   "outputs": [
    {
     "name": "stdout",
     "output_type": "stream",
     "text": [
      "(60000, 10)\n",
      "(10000, 10)\n"
     ]
    }
   ],
   "source": [
    "from tensorflow.keras.utils import to_categorical\n",
    "y_train = to_categorical(y_train,10)\n",
    "y_test = to_categorical(y_test,10)\n",
    "print(y_train.shape,y_test.shape,sep='\\n')"
   ]
  },
  {
   "cell_type": "code",
   "execution_count": 17,
   "metadata": {},
   "outputs": [],
   "source": [
    "from tensorflow.keras.models import Sequential\n",
    "from tensorflow.keras.layers import Dense\n",
    "from tensorflow.keras.optimizers import SGD"
   ]
  },
  {
   "cell_type": "code",
   "execution_count": 20,
   "metadata": {},
   "outputs": [],
   "source": [
    "model = Sequential()\n",
    "model.add(Dense(100,input_dim=784,activation='relu'))\n",
    "model.add(Dense(80,activation='relu'))\n",
    "model.add(Dense(75,activation='relu'))\n",
    "model.add(Dense(70,activation='relu'))\n",
    "model.add(Dense(65,activation='relu'))\n",
    "model.add(Dense(60,activation='relu'))\n",
    "model.add(Dense(55,activation='relu'))\n",
    "model.add(Dense(50,activation='relu'))\n",
    "model.add(Dense(45,activation='relu'))\n",
    "model.add(Dense(40,activation='relu'))\n",
    "model.add(Dense(35,activation='relu'))\n",
    "model.add(Dense(30,activation='relu'))\n",
    "model.add(Dense(25,activation='relu'))\n",
    "model.add(Dense(20,activation='relu'))\n",
    "model.add(Dense(15,activation='relu'))\n",
    "model.add(Dense(10,activation='softmax'))\n",
    "model.compile(loss='mse',optimizer=SGD(lr=0.09),metrics=['accuracy'])"
   ]
  },
  {
   "cell_type": "code",
   "execution_count": 21,
   "metadata": {},
   "outputs": [
    {
     "name": "stdout",
     "output_type": "stream",
     "text": [
      "Model: \"sequential_1\"\n",
      "_________________________________________________________________\n",
      "Layer (type)                 Output Shape              Param #   \n",
      "=================================================================\n",
      "dense_16 (Dense)             (None, 100)               78500     \n",
      "_________________________________________________________________\n",
      "dense_17 (Dense)             (None, 80)                8080      \n",
      "_________________________________________________________________\n",
      "dense_18 (Dense)             (None, 75)                6075      \n",
      "_________________________________________________________________\n",
      "dense_19 (Dense)             (None, 70)                5320      \n",
      "_________________________________________________________________\n",
      "dense_20 (Dense)             (None, 65)                4615      \n",
      "_________________________________________________________________\n",
      "dense_21 (Dense)             (None, 60)                3960      \n",
      "_________________________________________________________________\n",
      "dense_22 (Dense)             (None, 55)                3355      \n",
      "_________________________________________________________________\n",
      "dense_23 (Dense)             (None, 50)                2800      \n",
      "_________________________________________________________________\n",
      "dense_24 (Dense)             (None, 45)                2295      \n",
      "_________________________________________________________________\n",
      "dense_25 (Dense)             (None, 40)                1840      \n",
      "_________________________________________________________________\n",
      "dense_26 (Dense)             (None, 35)                1435      \n",
      "_________________________________________________________________\n",
      "dense_27 (Dense)             (None, 30)                1080      \n",
      "_________________________________________________________________\n",
      "dense_28 (Dense)             (None, 25)                775       \n",
      "_________________________________________________________________\n",
      "dense_29 (Dense)             (None, 20)                520       \n",
      "_________________________________________________________________\n",
      "dense_30 (Dense)             (None, 15)                315       \n",
      "_________________________________________________________________\n",
      "dense_31 (Dense)             (None, 10)                160       \n",
      "=================================================================\n",
      "Total params: 121,125\n",
      "Trainable params: 121,125\n",
      "Non-trainable params: 0\n",
      "_________________________________________________________________\n"
     ]
    }
   ],
   "source": [
    "model.summary()"
   ]
  },
  {
   "cell_type": "code",
   "execution_count": 22,
   "metadata": {},
   "outputs": [
    {
     "name": "stdout",
     "output_type": "stream",
     "text": [
      "Epoch 1/40\n",
      "60000/60000 [==============================] - 4s 71us/sample - loss: 0.0898 - acc: 0.1417\n",
      "Epoch 2/40\n",
      "60000/60000 [==============================] - 4s 70us/sample - loss: 0.0884 - acc: 0.1964\n",
      "Epoch 3/40\n",
      "60000/60000 [==============================] - 4s 70us/sample - loss: 0.0751 - acc: 0.3228\n",
      "Epoch 4/40\n",
      "60000/60000 [==============================] - 4s 69us/sample - loss: 0.0490 - acc: 0.6167\n",
      "Epoch 5/40\n",
      "60000/60000 [==============================] - 4s 70us/sample - loss: 0.0374 - acc: 0.6994\n",
      "Epoch 6/40\n",
      "60000/60000 [==============================] - 4s 70us/sample - loss: 0.0332 - acc: 0.7462\n",
      "Epoch 7/40\n",
      "60000/60000 [==============================] - 4s 70us/sample - loss: 0.0292 - acc: 0.7965\n",
      "Epoch 8/40\n",
      "60000/60000 [==============================] - 4s 71us/sample - loss: 0.0258 - acc: 0.8243\n",
      "Epoch 9/40\n",
      "60000/60000 [==============================] - 4s 70us/sample - loss: 0.0235 - acc: 0.8399\n",
      "Epoch 10/40\n",
      "60000/60000 [==============================] - 4s 70us/sample - loss: 0.0221 - acc: 0.8507\n",
      "Epoch 11/40\n",
      "60000/60000 [==============================] - 4s 71us/sample - loss: 0.0210 - acc: 0.8581\n",
      "Epoch 12/40\n",
      "60000/60000 [==============================] - 4s 71us/sample - loss: 0.0200 - acc: 0.8660\n",
      "Epoch 13/40\n",
      "60000/60000 [==============================] - 4s 71us/sample - loss: 0.0193 - acc: 0.8697\n",
      "Epoch 14/40\n",
      "60000/60000 [==============================] - 4s 71us/sample - loss: 0.0187 - acc: 0.8742\n",
      "Epoch 15/40\n",
      "60000/60000 [==============================] - 4s 71us/sample - loss: 0.0182 - acc: 0.8787\n",
      "Epoch 16/40\n",
      "60000/60000 [==============================] - 4s 73us/sample - loss: 0.0177 - acc: 0.8823\n",
      "Epoch 17/40\n",
      "60000/60000 [==============================] - 4s 74us/sample - loss: 0.0173 - acc: 0.8828\n",
      "Epoch 18/40\n",
      "60000/60000 [==============================] - 4s 74us/sample - loss: 0.0168 - acc: 0.8882\n",
      "Epoch 19/40\n",
      "60000/60000 [==============================] - 4s 74us/sample - loss: 0.0165 - acc: 0.8899\n",
      "Epoch 20/40\n",
      "60000/60000 [==============================] - 4s 74us/sample - loss: 0.0160 - acc: 0.8929\n",
      "Epoch 21/40\n",
      "60000/60000 [==============================] - 4s 74us/sample - loss: 0.0158 - acc: 0.8941\n",
      "Epoch 22/40\n",
      "60000/60000 [==============================] - 4s 74us/sample - loss: 0.0155 - acc: 0.8960\n",
      "Epoch 23/40\n",
      "60000/60000 [==============================] - 4s 74us/sample - loss: 0.0153 - acc: 0.8978\n",
      "Epoch 24/40\n",
      "60000/60000 [==============================] - 5s 81us/sample - loss: 0.0151 - acc: 0.8999\n",
      "Epoch 25/40\n",
      "60000/60000 [==============================] - 4s 73us/sample - loss: 0.0148 - acc: 0.9025\n",
      "Epoch 26/40\n",
      "60000/60000 [==============================] - 4s 73us/sample - loss: 0.0145 - acc: 0.9038\n",
      "Epoch 27/40\n",
      "60000/60000 [==============================] - 4s 73us/sample - loss: 0.0144 - acc: 0.9048\n",
      "Epoch 28/40\n",
      "60000/60000 [==============================] - 4s 73us/sample - loss: 0.0142 - acc: 0.9051\n",
      "Epoch 29/40\n",
      "60000/60000 [==============================] - 4s 74us/sample - loss: 0.0139 - acc: 0.9079\n",
      "Epoch 30/40\n",
      "60000/60000 [==============================] - 4s 73us/sample - loss: 0.0139 - acc: 0.9083\n",
      "Epoch 31/40\n",
      "60000/60000 [==============================] - 4s 74us/sample - loss: 0.0135 - acc: 0.9101\n",
      "Epoch 32/40\n",
      "60000/60000 [==============================] - 4s 74us/sample - loss: 0.0135 - acc: 0.9115\n",
      "Epoch 33/40\n",
      "60000/60000 [==============================] - 4s 74us/sample - loss: 0.0133 - acc: 0.9119\n",
      "Epoch 34/40\n",
      "60000/60000 [==============================] - 5s 77us/sample - loss: 0.0131 - acc: 0.9139\n",
      "Epoch 35/40\n",
      "60000/60000 [==============================] - 5s 76us/sample - loss: 0.0130 - acc: 0.9144\n",
      "Epoch 36/40\n",
      "60000/60000 [==============================] - 4s 75us/sample - loss: 0.0128 - acc: 0.9152\n",
      "Epoch 37/40\n",
      "60000/60000 [==============================] - 4s 74us/sample - loss: 0.0127 - acc: 0.9169\n",
      "Epoch 38/40\n",
      "60000/60000 [==============================] - 4s 74us/sample - loss: 0.0125 - acc: 0.9181\n",
      "Epoch 39/40\n",
      "60000/60000 [==============================] - 4s 73us/sample - loss: 0.0126 - acc: 0.9178\n",
      "Epoch 40/40\n",
      "60000/60000 [==============================] - 4s 73us/sample - loss: 0.0123 - acc: 0.9205\n"
     ]
    },
    {
     "data": {
      "text/plain": [
       "<tensorflow.python.keras.callbacks.History at 0x25407817e08>"
      ]
     },
     "execution_count": 22,
     "metadata": {},
     "output_type": "execute_result"
    }
   ],
   "source": [
    "model.fit(x_train,y_train,batch_size=30,epochs=40)"
   ]
  },
  {
   "cell_type": "code",
   "execution_count": 25,
   "metadata": {},
   "outputs": [],
   "source": [
    "result = model.predict_classes(x_test)"
   ]
  },
  {
   "cell_type": "code",
   "execution_count": 27,
   "metadata": {},
   "outputs": [
    {
     "data": {
      "application/vnd.jupyter.widget-view+json": {
       "model_id": "0c67c2c32c2142c08b435e7c2b064242",
       "version_major": 2,
       "version_minor": 0
      },
      "text/plain": [
       "interactive(children=(IntSlider(value=0, description='測試編號', max=9999), Button(description='Run Interact', sty…"
      ]
     },
     "metadata": {},
     "output_type": "display_data"
    }
   ],
   "source": [
    "def show_xy(測試編號=0):\n",
    "    ax = plt.gca()\n",
    "    X = x_test[測試編號]\n",
    "    plt.xticks([],[])\n",
    "    plt.yticks([],[])\n",
    "    plt.imshow(x_test[測試編號].reshape(28,28),cmap='Greys')\n",
    "    print(f'神經網路預測的答案為: {labels[result[測試編號]]}')\n",
    "interact_manual(show_xy,測試編號=(0,9999));"
   ]
  },
  {
   "cell_type": "code",
   "execution_count": 28,
   "metadata": {},
   "outputs": [
    {
     "name": "stdout",
     "output_type": "stream",
     "text": [
      "神經網路預測是: T-shirt/top\n"
     ]
    },
    {
     "data": {
      "text/plain": [
       "<matplotlib.image.AxesImage at 0x254079a0108>"
      ]
     },
     "execution_count": 28,
     "metadata": {},
     "output_type": "execute_result"
    },
    {
     "data": {
      "image/png": "[encoded data removed]",
      "text/plain": [
       "<Figure size 432x288 with 1 Axes>"
      ]
     },
     "metadata": {
      "needs_background": "light"
     },
     "output_type": "display_data"
    }
   ],
   "source": [
    "n=7778\n",
    "print('神經網路預測是:',labels[result[n]])\n",
    "plt.imshow(x_test[n].reshape(28,28),cmap='Greys')"
   ]
  },
  {
   "cell_type": "code",
   "execution_count": null,
   "metadata": {},
   "outputs": [],
   "source": []
  },
  {
   "cell_type": "code",
   "execution_count": null,
   "metadata": {},
   "outputs": [],
   "source": []
  }
 ],
 "metadata": {
  "kernelspec": {
   "display_name": "Python 3",
   "language": "python",
   "name": "python3"
  },
  "language_info": {
   "codemirror_mode": {
    "name": "ipython",
    "version": 3
   },
   "file_extension": ".py",
   "mimetype": "text/x-python",
   "name": "python",
   "nbconvert_exporter": "python",
   "pygments_lexer": "ipython3",
   "version": "3.7.6"
  }
 },
 "nbformat": 4,
 "nbformat_minor": 4
}
