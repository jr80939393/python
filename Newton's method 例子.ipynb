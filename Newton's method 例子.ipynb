{
 "cells": [
  {
   "cell_type": "code",
   "execution_count": 1,
   "metadata": {},
   "outputs": [],
   "source": [
    "import numpy as np"
   ]
  },
  {
   "cell_type": "code",
   "execution_count": 3,
   "metadata": {},
   "outputs": [],
   "source": [
    "# Newton's method"
   ]
  },
  {
   "cell_type": "code",
   "execution_count": 16,
   "metadata": {},
   "outputs": [
    {
     "name": "stdout",
     "output_type": "stream",
     "text": [
      "1 -0.5538591176189893\n",
      "2 0.4173344622745583\n",
      "3 0.4063956088867199\n",
      "4 0.39550890428275537\n",
      "5 0.3846723271881306\n",
      "6 0.3738839264333178\n",
      "7 0.36314181669113305\n",
      "8 0.35244417450585774\n",
      "9 0.34178923458881416\n",
      "10 0.33117528635756033\n",
      "11 0.32060067069807996\n",
      "12 0.3100637769313095\n",
      "13 0.2995630399670911\n",
      "14 0.28909693763019934\n",
      "15 0.27866398814447957\n",
      "16 0.2682627477623815\n",
      "17 0.25789180852828353\n",
      "18 0.24754979616500855\n",
      "19 0.23723536807384038\n",
      "20 0.2269472114391987\n",
      "21 0.21668404142998468\n",
      "22 0.2064445994906496\n",
      "23 0.1962276517167708\n",
      "24 0.18603198731381052\n",
      "25 0.17585641714801914\n",
      "26 0.16569977242736617\n",
      "27 0.1555609036331887\n",
      "28 0.14543868006114863\n",
      "29 0.1353319910128919\n",
      "30 0.12523975163521786\n",
      "31 0.11516092199009915\n",
      "32 0.10509456386204302\n",
      "33 0.09504000509033018\n",
      "34 0.08499730965960951\n",
      "35 0.07496861490635742\n",
      "36 0.06496191738678717\n",
      "37 0.05500171314207425\n",
      "38 0.045158407103207426\n",
      "39 0.0356260392943698\n",
      "40 0.026902373325113887\n",
      "41 0.020049255811252043\n",
      "42 0.016385708252992938\n",
      "43 0.015555264546837505\n",
      "44 0.015520158240624013\n",
      "45 0.015520098759122436\n"
     ]
    }
   ],
   "source": [
    "def f(x):\n",
    "    return 15*x + np.sin(3*x) + np.exp(100*np.sin(x)) - 5\n",
    "# define f'(x) 這邊必須自己算出函數的微分\n",
    "def df(x):\n",
    "    return 15 + 3*np.cos(3*x) + 100*np.cos(x)*np.exp(100*np.sin(x))\n",
    "\n",
    "# 這裡先隨便猜一個值當起始值\n",
    "\n",
    "x0 = 5\n",
    "time = 0\n",
    "tol = 10**(-10) # 誤差\n",
    "\n",
    "while abs(f(x0))>tol:\n",
    "    x0 = x0-f(x0)/df(x0)\n",
    "    time += 1\n",
    "    print(time,x0)"
   ]
  },
  {
   "cell_type": "code",
   "execution_count": 17,
   "metadata": {},
   "outputs": [
    {
     "data": {
      "text/plain": [
       "8.347811331077537e-11"
      ]
     },
     "execution_count": 17,
     "metadata": {},
     "output_type": "execute_result"
    }
   ],
   "source": [
    "f(x0)"
   ]
  },
  {
   "cell_type": "markdown",
   "metadata": {},
   "source": [
    "#####   發現利用牛頓法得出的值已經極為接近零"
   ]
  },
  {
   "cell_type": "code",
   "execution_count": null,
   "metadata": {},
   "outputs": [],
   "source": []
  }
 ],
 "metadata": {
  "kernelspec": {
   "display_name": "Python 3",
   "language": "python",
   "name": "python3"
  },
  "language_info": {
   "codemirror_mode": {
    "name": "ipython",
    "version": 3
   },
   "file_extension": ".py",
   "mimetype": "text/x-python",
   "name": "python",
   "nbconvert_exporter": "python",
   "pygments_lexer": "ipython3",
   "version": "3.7.4"
  }
 },
 "nbformat": 4,
 "nbformat_minor": 2
}
