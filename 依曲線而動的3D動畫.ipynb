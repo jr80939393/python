{
 "cells": [
  {
   "cell_type": "code",
   "execution_count": 6,
   "metadata": {},
   "outputs": [],
   "source": [
    "%matplotlib inline\n",
    "import numpy as np\n",
    "import matplotlib.pyplot as plt\n",
    "import matplotlib.image as mpimg\n",
    "from mpl_toolkits.mplot3d import Axes3D\n",
    "from ipywidgets import interact\n",
    "import sympy as sp"
   ]
  },
  {
   "cell_type": "code",
   "execution_count": 7,
   "metadata": {},
   "outputs": [
    {
     "data": {
      "text/plain": [
       "<Figure size 432x288 with 0 Axes>"
      ]
     },
     "metadata": {},
     "output_type": "display_data"
    }
   ],
   "source": [
    "fig = plt.figure()\n",
    "ax = Axes3D(fig)\n",
    "\n",
    "\n",
    "π = np.pi\n",
    "def the_curve(tv) :\n",
    "    t = np.linspace(0,10*π,200)\n",
    "    x = 0.96*np.sin(3*t)\n",
    "    y = 0.98*t*np.sin(t)\n",
    "    z = 0.95*t\n",
    "    xs=0.96*np.sin(3*tv)\n",
    "    ys=0.98*tv*np.sin(tv)\n",
    "    zs=0.95*tv\n",
    "    ax = plt.axes(projection='3d')\n",
    "    ax.plot(x,y,z)\n",
    "    ax.scatter(xs,ys,zs, c='black')\n",
    "    \n",
    "tv = np.linspace(0,10*π,200)\n",
    "the_curve(tv)\n",
    "\n",
    "filename = []\n",
    "for i,tv in enumerate(tv):\n",
    "    the_curve(tv)\n",
    "    plt.xlim(-10, 10)\n",
    "    plt.ylim(-10, 10)\n",
    "    flname = './%d.png'%(i)\n",
    "    plt.savefig(flname)\n",
    "    plt.clf()\n",
    "    filename.append(flname)\n",
    "    \n",
    "import imageio\n",
    "imags = []\n",
    "for flname in filename:\n",
    "    imags.append(imageio.imread(flname))\n",
    "imageio.mimsave('picture.gif',imags,duration = 0.05)\n",
    "\n"
   ]
  },
  {
   "cell_type": "code",
   "execution_count": 10,
   "metadata": {},
   "outputs": [],
   "source": [
    "import pyglet\n",
    " \n",
    "animation = pyglet.image.load_animation('picture.gif')\n",
    "animSprite = pyglet.sprite.Sprite(animation)\n",
    " \n",
    " \n",
    "w = animSprite.width\n",
    "h = animSprite.height\n",
    " \n",
    "window = pyglet.window.Window(width=w, height=h)\n",
    " \n",
    "r,g,b,alpha = 0.5,0.5,0.8,0.5\n",
    " \n",
    " \n",
    "pyglet.gl.glClearColor(r,g,b,alpha)\n",
    " \n",
    "@window.event\n",
    "def on_draw():\n",
    "    window.clear()\n",
    "    animSprite.draw()\n",
    " \n",
    " \n",
    " \n",
    "pyglet.app.run()"
   ]
  },
  {
   "cell_type": "code",
   "execution_count": 9,
   "metadata": {},
   "outputs": [],
   "source": []
  },
  {
   "cell_type": "code",
   "execution_count": null,
   "metadata": {},
   "outputs": [],
   "source": []
  }
 ],
 "metadata": {
  "kernelspec": {
   "display_name": "Python 3",
   "language": "python",
   "name": "python3"
  },
  "language_info": {
   "codemirror_mode": {
    "name": "ipython",
    "version": 3
   },
   "file_extension": ".py",
   "mimetype": "text/x-python",
   "name": "python",
   "nbconvert_exporter": "python",
   "pygments_lexer": "ipython3",
   "version": "3.7.4"
  }
 },
 "nbformat": 4,
 "nbformat_minor": 2
 
 
}

[![header](https://github.com/jr80939393/python/blob/master/picture.gif?raw=true)](https://github.com/jr80939393/python/blob/master/picture.gif?raw=true)




