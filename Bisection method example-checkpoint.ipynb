{
 "cells": [
  {
   "cell_type": "code",
   "execution_count": 2,
   "metadata": {},
   "outputs": [],
   "source": [
    "# Using bisection method to solve f(x) = sin(x) + exp(x) - 5x - x^2"
   ]
  },
  {
   "cell_type": "code",
   "execution_count": 7,
   "metadata": {},
   "outputs": [],
   "source": [
    "import numpy as np\n",
    "\n",
    "def f(x):\n",
    "    return np.sin(x)+np.exp(x)-5*x-x**2"
   ]
  },
  {
   "cell_type": "code",
   "execution_count": 8,
   "metadata": {},
   "outputs": [],
   "source": [
    "# 先找兩個 x 值 x1 , x2 使得 f(x1)*f(x2)<0"
   ]
  },
  {
   "cell_type": "code",
   "execution_count": 9,
   "metadata": {},
   "outputs": [
    {
     "data": {
      "text/plain": [
       "-2.4402471867330586"
      ]
     },
     "execution_count": 9,
     "metadata": {},
     "output_type": "execute_result"
    }
   ],
   "source": [
    "f(1)"
   ]
  },
  {
   "cell_type": "code",
   "execution_count": 11,
   "metadata": {},
   "outputs": [
    {
     "data": {
      "text/plain": [
       "97.45423482791347"
      ]
     },
     "execution_count": 11,
     "metadata": {},
     "output_type": "execute_result"
    }
   ],
   "source": [
    "f(5)"
   ]
  },
  {
   "cell_type": "code",
   "execution_count": 16,
   "metadata": {},
   "outputs": [],
   "source": [
    "# 另 1 , 5 為起始值\n",
    "a = 1\n",
    "b = 5\n",
    "# 設定誤差\n",
    "tol = 10**(-10)\n",
    "i = 0"
   ]
  },
  {
   "cell_type": "code",
   "execution_count": 17,
   "metadata": {},
   "outputs": [
    {
     "name": "stdout",
     "output_type": "stream",
     "text": [
      "1 4.0\n",
      "2 3.5\n",
      "3 3.375\n",
      "4 3.34375\n",
      "5 3.3359375\n",
      "6 3.33203125\n",
      "7 3.330078125\n",
      "8 3.32958984375\n",
      "9 3.329345703125\n",
      "10 3.3292236328125\n",
      "11 3.329193115234375\n",
      "12 3.3292083740234375\n",
      "13 3.329204559326172\n",
      "14 3.3292064666748047\n",
      "15 3.3292055130004883\n",
      "16 3.329205274581909\n",
      "17 3.3292053937911987\n",
      "18 3.329205334186554\n",
      "19 3.3292053192853928\n",
      "20 3.3292053267359734\n",
      "21 3.3292053304612637\n",
      "22 3.329205332323909\n",
      "23 3.3292053313925862\n",
      "24 3.3292053311597556\n",
      "25 3.329205331101548\n",
      "26 3.329205331072444\n",
      "27 3.329205331057892\n",
      "28 3.3292053310506162\n"
     ]
    }
   ],
   "source": [
    "c = float(a+b)/2\n",
    "\n",
    "while abs(f(c))>tol:\n",
    "    if f(a)*f(c)<0:\n",
    "        b = c\n",
    "        c = float(a+b)/2\n",
    "    if f(c)*f(b)<0:\n",
    "        a = c\n",
    "        c = float(a+b)/2\n",
    "    else:\n",
    "        pass\n",
    "    i += 1\n",
    "    print(i,c)"
   ]
  },
  {
   "cell_type": "code",
   "execution_count": 18,
   "metadata": {},
   "outputs": [
    {
     "data": {
      "text/plain": [
       "3.928590786017594e-11"
      ]
     },
     "execution_count": 18,
     "metadata": {},
     "output_type": "execute_result"
    }
   ],
   "source": [
    "f(c)"
   ]
  },
  {
   "cell_type": "code",
   "execution_count": null,
   "metadata": {},
   "outputs": [],
   "source": []
  }
 ],
 "metadata": {
  "kernelspec": {
   "display_name": "Python 3",
   "language": "python",
   "name": "python3"
  },
  "language_info": {
   "codemirror_mode": {
    "name": "ipython",
    "version": 3
   },
   "file_extension": ".py",
   "mimetype": "text/x-python",
   "name": "python",
   "nbconvert_exporter": "python",
   "pygments_lexer": "ipython3",
   "version": "3.7.6"
  }
 },
 "nbformat": 4,
 "nbformat_minor": 4
}
